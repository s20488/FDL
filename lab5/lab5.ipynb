{
  "nbformat": 4,
  "nbformat_minor": 0,
  "metadata": {
    "colab": {
      "provenance": [],
      "toc_visible": true
    },
    "kernelspec": {
      "name": "python3",
      "display_name": "Python 3"
    },
    "language_info": {
      "name": "python"
    }
  },
  "cells": [
    {
      "cell_type": "markdown",
      "source": [
        "# FDL lab 5 -- Tworzymy zbiór danych"
      ],
      "metadata": {
        "id": "h73qJBUtav92"
      }
    },
    {
      "cell_type": "markdown",
      "source": [
        "Na dzisiejszych zajęciach przygotujemy zbiór danych do uczenia maszynowego. Do wykonania laboratorium musisz utworzyć konto na Kaggle.\n",
        "\n",
        "Czego się dowiesz\n",
        "- [ ] Jak pobrać dataset z Kaggle'a\n",
        "- [ ] Jak wersjonować dataset z użyciem dvc\n",
        "- [ ] Jak wykonać proste operacje na tabeli z użyciem pandas\n",
        "- [ ] Jak przygotować proste dane tabelaryczne do uczenia maszynowego"
      ],
      "metadata": {
        "id": "fgYHGof8a5ZJ"
      }
    },
    {
      "cell_type": "markdown",
      "source": [
        "Instalujemy bibliotekę do wersjonowania danych -- DVC https://dvc.org/\n",
        "\n",
        "Uwaga! Po zainstalowaniu musisz uruchomić ponownie środowisko wykonawcze.\n"
      ],
      "metadata": {
        "id": "32EtHHIwbaQ0"
      }
    },
    {
      "cell_type": "code",
      "execution_count": null,
      "metadata": {
        "id": "8WWH9AlxDiU2",
        "colab": {
          "base_uri": "https://localhost:8080/"
        },
        "outputId": "de64fef8-bed5-4abf-c07c-7a6795c6edaf"
      },
      "outputs": [
        {
          "output_type": "stream",
          "name": "stdout",
          "text": [
            "\u001b[2K     \u001b[90m━━━━━━━━━━━━━━━━━━━━━━━━━━━━━━━━━━━━━━━━\u001b[0m \u001b[32m430.3/430.3 kB\u001b[0m \u001b[31m5.0 MB/s\u001b[0m eta \u001b[36m0:00:00\u001b[0m\n",
            "\u001b[2K     \u001b[90m━━━━━━━━━━━━━━━━━━━━━━━━━━━━━━━━━━━━━━━━\u001b[0m \u001b[32m68.6/68.6 kB\u001b[0m \u001b[31m6.1 MB/s\u001b[0m eta \u001b[36m0:00:00\u001b[0m\n",
            "\u001b[2K     \u001b[90m━━━━━━━━━━━━━━━━━━━━━━━━━━━━━━━━━━━━━━━━\u001b[0m \u001b[32m41.8/41.8 kB\u001b[0m \u001b[31m4.1 MB/s\u001b[0m eta \u001b[36m0:00:00\u001b[0m\n",
            "\u001b[2K     \u001b[90m━━━━━━━━━━━━━━━━━━━━━━━━━━━━━━━━━━━━━━━━\u001b[0m \u001b[32m46.6/46.6 kB\u001b[0m \u001b[31m5.3 MB/s\u001b[0m eta \u001b[36m0:00:00\u001b[0m\n",
            "\u001b[2K     \u001b[90m━━━━━━━━━━━━━━━━━━━━━━━━━━━━━━━━━━━━━━━━\u001b[0m \u001b[32m154.5/154.5 kB\u001b[0m \u001b[31m6.8 MB/s\u001b[0m eta \u001b[36m0:00:00\u001b[0m\n",
            "\u001b[2K     \u001b[90m━━━━━━━━━━━━━━━━━━━━━━━━━━━━━━━━━━━━━━━━\u001b[0m \u001b[32m116.4/116.4 kB\u001b[0m \u001b[31m7.4 MB/s\u001b[0m eta \u001b[36m0:00:00\u001b[0m\n",
            "\u001b[2K     \u001b[90m━━━━━━━━━━━━━━━━━━━━━━━━━━━━━━━━━━━━━━━━\u001b[0m \u001b[32m58.0/58.0 kB\u001b[0m \u001b[31m5.9 MB/s\u001b[0m eta \u001b[36m0:00:00\u001b[0m\n",
            "\u001b[2K     \u001b[90m━━━━━━━━━━━━━━━━━━━━━━━━━━━━━━━━━━━━━━━━\u001b[0m \u001b[32m512.2/512.2 kB\u001b[0m \u001b[31m11.4 MB/s\u001b[0m eta \u001b[36m0:00:00\u001b[0m\n",
            "\u001b[2K     \u001b[90m━━━━━━━━━━━━━━━━━━━━━━━━━━━━━━━━━━━━━━━━\u001b[0m \u001b[32m421.9/421.9 kB\u001b[0m \u001b[31m14.8 MB/s\u001b[0m eta \u001b[36m0:00:00\u001b[0m\n",
            "\u001b[2K     \u001b[90m━━━━━━━━━━━━━━━━━━━━━━━━━━━━━━━━━━━━━━━━\u001b[0m \u001b[32m200.0/200.0 kB\u001b[0m \u001b[31m13.2 MB/s\u001b[0m eta \u001b[36m0:00:00\u001b[0m\n",
            "\u001b[2K     \u001b[90m━━━━━━━━━━━━━━━━━━━━━━━━━━━━━━━━━━━━━━━━\u001b[0m \u001b[32m79.5/79.5 kB\u001b[0m \u001b[31m10.1 MB/s\u001b[0m eta \u001b[36m0:00:00\u001b[0m\n",
            "\u001b[2K     \u001b[90m━━━━━━━━━━━━━━━━━━━━━━━━━━━━━━━━━━━━━━━━\u001b[0m \u001b[32m117.0/117.0 kB\u001b[0m \u001b[31m14.6 MB/s\u001b[0m eta \u001b[36m0:00:00\u001b[0m\n",
            "\u001b[?25h  Preparing metadata (setup.py) ... \u001b[?25l\u001b[?25hdone\n",
            "\u001b[2K     \u001b[90m━━━━━━━━━━━━━━━━━━━━━━━━━━━━━━━━━━━━━━━━\u001b[0m \u001b[32m526.7/526.7 kB\u001b[0m \u001b[31m17.4 MB/s\u001b[0m eta \u001b[36m0:00:00\u001b[0m\n",
            "\u001b[2K     \u001b[90m━━━━━━━━━━━━━━━━━━━━━━━━━━━━━━━━━━━━━━━━\u001b[0m \u001b[32m190.6/190.6 kB\u001b[0m \u001b[31m9.5 MB/s\u001b[0m eta \u001b[36m0:00:00\u001b[0m\n",
            "\u001b[2K     \u001b[90m━━━━━━━━━━━━━━━━━━━━━━━━━━━━━━━━━━━━━━━━\u001b[0m \u001b[32m5.0/5.0 MB\u001b[0m \u001b[31m32.4 MB/s\u001b[0m eta \u001b[36m0:00:00\u001b[0m\n",
            "\u001b[2K     \u001b[90m━━━━━━━━━━━━━━━━━━━━━━━━━━━━━━━━━━━━━━━━\u001b[0m \u001b[32m352.2/352.2 kB\u001b[0m \u001b[31m34.9 MB/s\u001b[0m eta \u001b[36m0:00:00\u001b[0m\n",
            "\u001b[2K     \u001b[90m━━━━━━━━━━━━━━━━━━━━━━━━━━━━━━━━━━━━━━━━\u001b[0m \u001b[32m86.7/86.7 kB\u001b[0m \u001b[31m9.2 MB/s\u001b[0m eta \u001b[36m0:00:00\u001b[0m\n",
            "\u001b[2K     \u001b[90m━━━━━━━━━━━━━━━━━━━━━━━━━━━━━━━━━━━━━━━━\u001b[0m \u001b[32m341.8/341.8 kB\u001b[0m \u001b[31m32.4 MB/s\u001b[0m eta \u001b[36m0:00:00\u001b[0m\n",
            "\u001b[2K     \u001b[90m━━━━━━━━━━━━━━━━━━━━━━━━━━━━━━━━━━━━━━━━\u001b[0m \u001b[32m62.7/62.7 kB\u001b[0m \u001b[31m6.9 MB/s\u001b[0m eta \u001b[36m0:00:00\u001b[0m\n",
            "\u001b[2K     \u001b[90m━━━━━━━━━━━━━━━━━━━━━━━━━━━━━━━━━━━━━━━━\u001b[0m \u001b[32m50.9/50.9 kB\u001b[0m \u001b[31m6.0 MB/s\u001b[0m eta \u001b[36m0:00:00\u001b[0m\n",
            "\u001b[2K     \u001b[90m━━━━━━━━━━━━━━━━━━━━━━━━━━━━━━━━━━━━━━━━\u001b[0m \u001b[32m138.7/138.7 kB\u001b[0m \u001b[31m16.0 MB/s\u001b[0m eta \u001b[36m0:00:00\u001b[0m\n",
            "\u001b[?25h  Building wheel for antlr4-python3-runtime (setup.py) ... \u001b[?25l\u001b[?25hdone\n"
          ]
        }
      ],
      "source": [
        "!pip install -q dvc kaggle"
      ]
    },
    {
      "cell_type": "markdown",
      "source": [
        "# Zadania"
      ],
      "metadata": {
        "id": "lBpyk4Q3bz8B"
      }
    },
    {
      "cell_type": "markdown",
      "source": [
        "## Zadanie 1\n",
        "Przygotuj repozytorium do przechowywania zbiorów danych. Uzupełnij linijki oznaczone komentarzem TODO."
      ],
      "metadata": {
        "id": "TdZdS7Pyb2eC"
      }
    },
    {
      "cell_type": "code",
      "source": [
        "# Utwórz katalog lab5 odpowiednią komendą wiersza poleceń\n",
        "! mkdir lab5"
      ],
      "metadata": {
        "id": "gOSZWa2gb2AJ"
      },
      "execution_count": null,
      "outputs": []
    },
    {
      "cell_type": "code",
      "source": [
        "# Wejdź do katalogu lab5 i zainincjalizuj projekt w gicie oraz zainicjalizuj projekt w dvc\n",
        "! cd lab5\n",
        "! git init\n",
        "! dvc init"
      ],
      "metadata": {
        "id": "y4j3QhoLDkKC",
        "colab": {
          "base_uri": "https://localhost:8080/"
        },
        "outputId": "a9280ca3-2494-4f3a-8428-152604f1e853"
      },
      "execution_count": null,
      "outputs": [
        {
          "output_type": "stream",
          "name": "stdout",
          "text": [
            "Reinitialized existing Git repository in /content/.git/\n",
            "\u001b[31mERROR\u001b[39m: failed to initiate DVC - '.dvc' exists. Use `-f` to force.\n",
            "\u001b[0m"
          ]
        }
      ]
    },
    {
      "cell_type": "code",
      "source": [
        "! git config --global user.name \"s20488\" # TODO: uzupełnij swoimi danymi\n",
        "! git config --global user.email \"s20488@pjwstk.edu.pl\" # TODO: uzupełnij swoimi danymi, mail nie musi być prawdziwy"
      ],
      "metadata": {
        "id": "OnopvpMXfoif"
      },
      "execution_count": null,
      "outputs": []
    },
    {
      "cell_type": "code",
      "source": [
        "! cd lab5 && git status"
      ],
      "metadata": {
        "id": "JWzJO54Lfc5s",
        "colab": {
          "base_uri": "https://localhost:8080/"
        },
        "outputId": "14f546ee-e324-4cb7-c003-9d3659b2ac0d"
      },
      "execution_count": null,
      "outputs": [
        {
          "output_type": "stream",
          "name": "stdout",
          "text": [
            "On branch master\n",
            "Untracked files:\n",
            "  (use \"git add <file>...\" to include in what will be committed)\n",
            "\t\u001b[31m../.config/\u001b[m\n",
            "\t\u001b[31m../sample_data/\u001b[m\n",
            "\n",
            "nothing added to commit but untracked files present (use \"git add\" to track)\n"
          ]
        }
      ]
    },
    {
      "cell_type": "code",
      "source": [
        "!cd lab5 && git commit -m \"Initialize DVC\""
      ],
      "metadata": {
        "id": "BW5DwNsqf7dy",
        "colab": {
          "base_uri": "https://localhost:8080/"
        },
        "outputId": "49dfbae3-56d1-4e58-a47c-28ed8f1174aa"
      },
      "execution_count": null,
      "outputs": [
        {
          "output_type": "stream",
          "name": "stdout",
          "text": [
            "On branch master\n",
            "Untracked files:\n",
            "  (use \"git add <file>...\" to include in what will be committed)\n",
            "\t\u001b[31m../.config/\u001b[m\n",
            "\t\u001b[31m../sample_data/\u001b[m\n",
            "\n",
            "nothing added to commit but untracked files present (use \"git add\" to track)\n"
          ]
        }
      ]
    },
    {
      "cell_type": "markdown",
      "source": [
        "Pobierz klucz API z Kaggle'a.\n",
        "Wejdź do ustawień swojego konta. W sekcji API kliknij \"Create New Token\". Po klinknięciu przycisku zostanie pobrany plik kaggle.json."
      ],
      "metadata": {
        "id": "Sg6Yi3PDdaZM"
      }
    },
    {
      "cell_type": "markdown",
      "source": [
        "![image.png](data:image/png;base64,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)"
      ],
      "metadata": {
        "id": "JAhAcMkAdXF-"
      }
    },
    {
      "cell_type": "markdown",
      "source": [
        "Wrzuć plik kaggle.json do plików colabowych tak, jak na obrazku poniżej."
      ],
      "metadata": {
        "id": "mfeYhUajd_D3"
      }
    },
    {
      "cell_type": "markdown",
      "source": [
        "![image.png](data:image/png;base64,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)"
      ],
      "metadata": {
        "id": "KnudJYprecLt"
      }
    },
    {
      "cell_type": "code",
      "source": [
        "kaggle_creds_path = \"kaggle.json\""
      ],
      "metadata": {
        "id": "uvv40xFmG7Ka"
      },
      "execution_count": null,
      "outputs": []
    },
    {
      "cell_type": "markdown",
      "source": [
        "Tworzymy katalog .kaggle"
      ],
      "metadata": {
        "id": "SjgneaHZefdw"
      }
    },
    {
      "cell_type": "code",
      "source": [
        "!mkdir ~/.kaggle"
      ],
      "metadata": {
        "id": "_7PpvpnMJJrX",
        "colab": {
          "base_uri": "https://localhost:8080/"
        },
        "outputId": "6a107c7e-1461-4db7-db31-0576b60f8778"
      },
      "execution_count": null,
      "outputs": [
        {
          "output_type": "stream",
          "name": "stdout",
          "text": [
            "mkdir: cannot create directory ‘/root/.kaggle’: File exists\n"
          ]
        }
      ]
    },
    {
      "cell_type": "code",
      "source": [
        "# Skopiuj kaggle.json do ~/.kaggle.\n",
        "! cp kaggle.json ~/.kaggle/"
      ],
      "metadata": {
        "id": "fHkfxr6OJW2I"
      },
      "execution_count": null,
      "outputs": []
    },
    {
      "cell_type": "markdown",
      "source": [
        "Dodajemy uprawnienia do katalog.json."
      ],
      "metadata": {
        "id": "e3FB4Pu5e_ce"
      }
    },
    {
      "cell_type": "code",
      "source": [
        "!chmod 600 ~/.kaggle/kaggle.json"
      ],
      "metadata": {
        "id": "FvhjU8ozH8DM"
      },
      "execution_count": null,
      "outputs": []
    },
    {
      "cell_type": "markdown",
      "source": [
        "Przy pomocy odpowiedniej komendy, pobierz zbiór jonwright13/ufo-sightings-around-the-world-better z kaggle'a.\n",
        "https://www.kaggle.com/datasets/jonwright13/ufo-sightings-around-the-world-better/data"
      ],
      "metadata": {
        "id": "jFdjCZ2lfFcM"
      }
    },
    {
      "cell_type": "code",
      "source": [
        "! kaggle datasets download -d jonwright13/ufo-sightings-around-the-world-better"
      ],
      "metadata": {
        "id": "0EKaL6lHIXhE",
        "colab": {
          "base_uri": "https://localhost:8080/"
        },
        "outputId": "a39bd2cb-bd65-4350-a919-13cb75beb6c2"
      },
      "execution_count": null,
      "outputs": [
        {
          "output_type": "stream",
          "name": "stdout",
          "text": [
            "Downloading ufo-sightings-around-the-world-better.zip to /content\n",
            "\r  0% 0.00/5.40M [00:00<?, ?B/s]\r 93% 5.00M/5.40M [00:00<00:00, 46.8MB/s]\n",
            "\r100% 5.40M/5.40M [00:00<00:00, 49.5MB/s]\n"
          ]
        }
      ]
    },
    {
      "cell_type": "markdown",
      "source": [
        "Rozpakuj plik i przenieś go do katalogu lab5/data."
      ],
      "metadata": {
        "id": "46u0_BQAfQhD"
      }
    },
    {
      "cell_type": "code",
      "source": [
        "! unzip ufo-sightings-around-the-world-better.zip -d lab5/data"
      ],
      "metadata": {
        "colab": {
          "base_uri": "https://localhost:8080/"
        },
        "id": "GvTPAIJUI4kR",
        "outputId": "41d2f1f5-7e71-4645-d0b2-b5bb97336a8c"
      },
      "execution_count": null,
      "outputs": [
        {
          "output_type": "stream",
          "name": "stdout",
          "text": [
            "Archive:  ufo-sightings-around-the-world-better.zip\n",
            "  inflating: lab5/data/ufo-sightings-transformed.csv  \n"
          ]
        }
      ]
    },
    {
      "cell_type": "markdown",
      "source": [
        "Dodaj arkusz ufo-sightings-transformed.csv do dvc przy pomocy odpowiedniej komendy."
      ],
      "metadata": {
        "id": "OSJwf47dgEgR"
      }
    },
    {
      "cell_type": "code",
      "source": [
        "! dvc add lab5/data/ufo-sightings-transformed.csv"
      ],
      "metadata": {
        "id": "bgHLkBPaYgQq",
        "colab": {
          "base_uri": "https://localhost:8080/"
        },
        "outputId": "842ea24c-6425-4fbf-e49d-c637b01caec0"
      },
      "execution_count": null,
      "outputs": [
        {
          "output_type": "stream",
          "name": "stdout",
          "text": [
            "\u001b[?25l\u001b[32m⠋\u001b[0m Checking graph\n",
            "Adding...:   0% 0/1 [00:00<?, ?file/s{'info': ''}]\n",
            "!\u001b[A\n",
            "          |0.00 [00:00,     ?file/s]\u001b[A\n",
            "                                    \u001b[A\n",
            "!\u001b[A\n",
            "  0% |          |0/? [00:00<?,    ?files/s]\u001b[A\n",
            "                                           \u001b[A\n",
            "!\u001b[A\n",
            "  0%|          |Adding lab5/data/ufo-sightings-transfo0/? [00:00<?,     ?file/s]\u001b[A\n",
            "  0% 0/1 [00:00<?, ?file/s{'info': ''}]                                         \u001b[A\n",
            "  0% 0/1 [00:00<?, ?file/s{'info': ''}]\u001b[A\n",
            "                                       \u001b[A\n",
            "!\u001b[A\n",
            "  0%|          |Checking out /content/lab5/data/ufo-si0/? [00:00<?,    ?files/s]\u001b[A\n",
            "  0% 0/1 [00:00<?, ?files/s{'info': ''}]                                        \u001b[A\n",
            "Adding...: 100% 1/1 [00:00<00:00,  6.02file/s{'info': ''}]\n",
            "\n",
            "To track the changes with git, run:\n",
            "\n",
            "\tgit add lab5/data/.gitignore lab5/data/ufo-sightings-transformed.csv.dvc\n",
            "\n",
            "To enable auto staging, run:\n",
            "\n",
            "\tdvc config core.autostage true\n",
            "\u001b[0m"
          ]
        }
      ]
    },
    {
      "cell_type": "markdown",
      "source": [
        "Dodaj commit przy użyciu gita, że dodajesz niegotowe dane \"raw data\"."
      ],
      "metadata": {
        "id": "ev6jnlQqgOeq"
      }
    },
    {
      "cell_type": "code",
      "source": [
        "! git add lab5/data/ufo-sightings-transformed.csv.dvc\n",
        "! git commit -m \"Dodanie surowych danych (raw data)\""
      ],
      "metadata": {
        "id": "HLAOXrF0Zjhq",
        "colab": {
          "base_uri": "https://localhost:8080/"
        },
        "outputId": "6ce0a288-1811-4f9d-ebab-69a2913cdc2d"
      },
      "execution_count": null,
      "outputs": [
        {
          "output_type": "stream",
          "name": "stdout",
          "text": [
            "[master 0bb8e22] Dodanie surowych danych (raw data)\n",
            " 1 file changed, 5 insertions(+)\n",
            " create mode 100644 lab5/data/ufo-sightings-transformed.csv.dvc\n"
          ]
        }
      ]
    },
    {
      "cell_type": "markdown",
      "source": [
        "## Zadanie 2 - Preprocessing\n",
        "Przygotuj zbiór danych do uczenia maszynowego.\n",
        "Na jego podstawie chemy wytrenować model do predykcji pory roku na podstawie kraju, kształtu UFO i długości zajścia w sekundach."
      ],
      "metadata": {
        "id": "teCFFH4hghdc"
      }
    },
    {
      "cell_type": "code",
      "source": [
        "import pandas as pd"
      ],
      "metadata": {
        "id": "luml55itJ9MS"
      },
      "execution_count": null,
      "outputs": []
    },
    {
      "cell_type": "markdown",
      "source": [
        "Wczytaj zbiór danych przy pomocy odpowiedniej komendy z pandas. Podaj ścieżkę do danych i ustaw parametr index_col='Unnamed: 0'"
      ],
      "metadata": {
        "id": "zZjeoNj5gsle"
      }
    },
    {
      "cell_type": "code",
      "source": [
        "df = pd.read_csv('ufo-sightings-transformed.csv', index_col='Unnamed: 0')"
      ],
      "metadata": {
        "id": "YU1I7GKnJqG6"
      },
      "execution_count": null,
      "outputs": []
    },
    {
      "cell_type": "markdown",
      "source": [
        "Wyświetlamy próbkę 5 przykładowych danych z tabeli. Wyświetlamy tabelę po transpozycji po to, żeby widoczne były wszystkie komórki.\n"
      ],
      "metadata": {
        "id": "GFvInPgChCAg"
      }
    },
    {
      "cell_type": "code",
      "source": [
        "df.sample(5).T"
      ],
      "metadata": {
        "id": "bMtrWWZ6g_Du",
        "colab": {
          "base_uri": "https://localhost:8080/",
          "height": 621
        },
        "outputId": "00b09fdf-386b-4444-d5bb-77be3fb0468b"
      },
      "execution_count": null,
      "outputs": [
        {
          "output_type": "execute_result",
          "data": {
            "text/plain": [
              "                                                          33918  \\\n",
              "Date_time                                   2010-03-28 23:45:00   \n",
              "date_documented                                       4/13/2010   \n",
              "Year                                                       2010   \n",
              "Month                                                         3   \n",
              "Hour                                                         23   \n",
              "Season                                                   Spring   \n",
              "Country_Code                                                USA   \n",
              "Country                                           United States   \n",
              "Region                                                  Vermont   \n",
              "Locale                                        Colchester Center   \n",
              "latitude                                              44.543889   \n",
              "longitude                                            -73.148333   \n",
              "UFO_shape                                                  Oval   \n",
              "length_of_encounter_seconds                                15.0   \n",
              "Encounter_Duration                                   15 seconds   \n",
              "Description                  blimp shaped craft hovering in sky   \n",
              "\n",
              "                                                                         49386  \\\n",
              "Date_time                                                  2010-06-15 21:30:00   \n",
              "date_documented                                                      4/11/2014   \n",
              "Year                                                                      2010   \n",
              "Month                                                                        6   \n",
              "Hour                                                                        21   \n",
              "Season                                                                  Summer   \n",
              "Country_Code                                                               USA   \n",
              "Country                                                          United States   \n",
              "Region                                                                 Alabama   \n",
              "Locale                                                               Pine Wood   \n",
              "latitude                                                             30.820556   \n",
              "longitude                                                           -88.070556   \n",
              "UFO_shape                                                                Light   \n",
              "length_of_encounter_seconds                                              120.0   \n",
              "Encounter_Duration                                                 1-2 minutes   \n",
              "Description                  3 lights of different color playing chase over...   \n",
              "\n",
              "                                                                         36002  \\\n",
              "Date_time                                                  1975-04-01 07:00:00   \n",
              "date_documented                                                      1/21/2008   \n",
              "Year                                                                      1975   \n",
              "Month                                                                        4   \n",
              "Hour                                                                         7   \n",
              "Season                                                                  Spring   \n",
              "Country_Code                                                               USA   \n",
              "Country                                                          United States   \n",
              "Region                                                            Pennsylvania   \n",
              "Locale                                                             Saint Marys   \n",
              "latitude                                                             41.427778   \n",
              "longitude                                                           -78.561111   \n",
              "UFO_shape                                                                Cigar   \n",
              "length_of_encounter_seconds                                                2.0   \n",
              "Encounter_Duration                                                     seconds   \n",
              "Description                  Cigar shaped ufo hovering over St. marys pa th...   \n",
              "\n",
              "                                                                         26024  \\\n",
              "Date_time                                                  2014-02-01 21:00:00   \n",
              "date_documented                                                       2/7/2014   \n",
              "Year                                                                      2014   \n",
              "Month                                                                        2   \n",
              "Hour                                                                        21   \n",
              "Season                                                                  Winter   \n",
              "Country_Code                                                               USA   \n",
              "Country                                                          United States   \n",
              "Region                                                                   Idaho   \n",
              "Locale                                                                Bellevue   \n",
              "latitude                                                             43.463611   \n",
              "longitude                                                          -114.259722   \n",
              "UFO_shape                                                             Fireball   \n",
              "length_of_encounter_seconds                                              900.0   \n",
              "Encounter_Duration                                                  15 minutes   \n",
              "Description                  Six orange lights with no sound in formation o...   \n",
              "\n",
              "                                                                         11890  \n",
              "Date_time                                                  1993-01-12 19:45:00  \n",
              "date_documented                                                       3/4/2003  \n",
              "Year                                                                      1993  \n",
              "Month                                                                        1  \n",
              "Hour                                                                        19  \n",
              "Season                                                                  Winter  \n",
              "Country_Code                                                               USA  \n",
              "Country                                                          United States  \n",
              "Region                                                               Wisconsin  \n",
              "Locale                                                              Brookfield  \n",
              "latitude                                                             43.060556  \n",
              "longitude                                                           -88.106389  \n",
              "UFO_shape                                                             Triangle  \n",
              "length_of_encounter_seconds                                              900.0  \n",
              "Encounter_Duration                                               12 to 15 min.  \n",
              "Description                  A  triangle craft this huge and so low  does n...  "
            ],
            "text/html": [
              "\n",
              "  <div id=\"df-c5ed0caa-498a-4d80-9ea6-011836527e56\" class=\"colab-df-container\">\n",
              "    <div>\n",
              "<style scoped>\n",
              "    .dataframe tbody tr th:only-of-type {\n",
              "        vertical-align: middle;\n",
              "    }\n",
              "\n",
              "    .dataframe tbody tr th {\n",
              "        vertical-align: top;\n",
              "    }\n",
              "\n",
              "    .dataframe thead th {\n",
              "        text-align: right;\n",
              "    }\n",
              "</style>\n",
              "<table border=\"1\" class=\"dataframe\">\n",
              "  <thead>\n",
              "    <tr style=\"text-align: right;\">\n",
              "      <th></th>\n",
              "      <th>33918</th>\n",
              "      <th>49386</th>\n",
              "      <th>36002</th>\n",
              "      <th>26024</th>\n",
              "      <th>11890</th>\n",
              "    </tr>\n",
              "  </thead>\n",
              "  <tbody>\n",
              "    <tr>\n",
              "      <th>Date_time</th>\n",
              "      <td>2010-03-28 23:45:00</td>\n",
              "      <td>2010-06-15 21:30:00</td>\n",
              "      <td>1975-04-01 07:00:00</td>\n",
              "      <td>2014-02-01 21:00:00</td>\n",
              "      <td>1993-01-12 19:45:00</td>\n",
              "    </tr>\n",
              "    <tr>\n",
              "      <th>date_documented</th>\n",
              "      <td>4/13/2010</td>\n",
              "      <td>4/11/2014</td>\n",
              "      <td>1/21/2008</td>\n",
              "      <td>2/7/2014</td>\n",
              "      <td>3/4/2003</td>\n",
              "    </tr>\n",
              "    <tr>\n",
              "      <th>Year</th>\n",
              "      <td>2010</td>\n",
              "      <td>2010</td>\n",
              "      <td>1975</td>\n",
              "      <td>2014</td>\n",
              "      <td>1993</td>\n",
              "    </tr>\n",
              "    <tr>\n",
              "      <th>Month</th>\n",
              "      <td>3</td>\n",
              "      <td>6</td>\n",
              "      <td>4</td>\n",
              "      <td>2</td>\n",
              "      <td>1</td>\n",
              "    </tr>\n",
              "    <tr>\n",
              "      <th>Hour</th>\n",
              "      <td>23</td>\n",
              "      <td>21</td>\n",
              "      <td>7</td>\n",
              "      <td>21</td>\n",
              "      <td>19</td>\n",
              "    </tr>\n",
              "    <tr>\n",
              "      <th>Season</th>\n",
              "      <td>Spring</td>\n",
              "      <td>Summer</td>\n",
              "      <td>Spring</td>\n",
              "      <td>Winter</td>\n",
              "      <td>Winter</td>\n",
              "    </tr>\n",
              "    <tr>\n",
              "      <th>Country_Code</th>\n",
              "      <td>USA</td>\n",
              "      <td>USA</td>\n",
              "      <td>USA</td>\n",
              "      <td>USA</td>\n",
              "      <td>USA</td>\n",
              "    </tr>\n",
              "    <tr>\n",
              "      <th>Country</th>\n",
              "      <td>United States</td>\n",
              "      <td>United States</td>\n",
              "      <td>United States</td>\n",
              "      <td>United States</td>\n",
              "      <td>United States</td>\n",
              "    </tr>\n",
              "    <tr>\n",
              "      <th>Region</th>\n",
              "      <td>Vermont</td>\n",
              "      <td>Alabama</td>\n",
              "      <td>Pennsylvania</td>\n",
              "      <td>Idaho</td>\n",
              "      <td>Wisconsin</td>\n",
              "    </tr>\n",
              "    <tr>\n",
              "      <th>Locale</th>\n",
              "      <td>Colchester Center</td>\n",
              "      <td>Pine Wood</td>\n",
              "      <td>Saint Marys</td>\n",
              "      <td>Bellevue</td>\n",
              "      <td>Brookfield</td>\n",
              "    </tr>\n",
              "    <tr>\n",
              "      <th>latitude</th>\n",
              "      <td>44.543889</td>\n",
              "      <td>30.820556</td>\n",
              "      <td>41.427778</td>\n",
              "      <td>43.463611</td>\n",
              "      <td>43.060556</td>\n",
              "    </tr>\n",
              "    <tr>\n",
              "      <th>longitude</th>\n",
              "      <td>-73.148333</td>\n",
              "      <td>-88.070556</td>\n",
              "      <td>-78.561111</td>\n",
              "      <td>-114.259722</td>\n",
              "      <td>-88.106389</td>\n",
              "    </tr>\n",
              "    <tr>\n",
              "      <th>UFO_shape</th>\n",
              "      <td>Oval</td>\n",
              "      <td>Light</td>\n",
              "      <td>Cigar</td>\n",
              "      <td>Fireball</td>\n",
              "      <td>Triangle</td>\n",
              "    </tr>\n",
              "    <tr>\n",
              "      <th>length_of_encounter_seconds</th>\n",
              "      <td>15.0</td>\n",
              "      <td>120.0</td>\n",
              "      <td>2.0</td>\n",
              "      <td>900.0</td>\n",
              "      <td>900.0</td>\n",
              "    </tr>\n",
              "    <tr>\n",
              "      <th>Encounter_Duration</th>\n",
              "      <td>15 seconds</td>\n",
              "      <td>1-2 minutes</td>\n",
              "      <td>seconds</td>\n",
              "      <td>15 minutes</td>\n",
              "      <td>12 to 15 min.</td>\n",
              "    </tr>\n",
              "    <tr>\n",
              "      <th>Description</th>\n",
              "      <td>blimp shaped craft hovering in sky</td>\n",
              "      <td>3 lights of different color playing chase over...</td>\n",
              "      <td>Cigar shaped ufo hovering over St. marys pa th...</td>\n",
              "      <td>Six orange lights with no sound in formation o...</td>\n",
              "      <td>A  triangle craft this huge and so low  does n...</td>\n",
              "    </tr>\n",
              "  </tbody>\n",
              "</table>\n",
              "</div>\n",
              "    <div class=\"colab-df-buttons\">\n",
              "\n",
              "  <div class=\"colab-df-container\">\n",
              "    <button class=\"colab-df-convert\" onclick=\"convertToInteractive('df-c5ed0caa-498a-4d80-9ea6-011836527e56')\"\n",
              "            title=\"Convert this dataframe to an interactive table.\"\n",
              "            style=\"display:none;\">\n",
              "\n",
              "  <svg xmlns=\"http://www.w3.org/2000/svg\" height=\"24px\" viewBox=\"0 -960 960 960\">\n",
              "    <path d=\"M120-120v-720h720v720H120Zm60-500h600v-160H180v160Zm220 220h160v-160H400v160Zm0 220h160v-160H400v160ZM180-400h160v-160H180v160Zm440 0h160v-160H620v160ZM180-180h160v-160H180v160Zm440 0h160v-160H620v160Z\"/>\n",
              "  </svg>\n",
              "    </button>\n",
              "\n",
              "  <style>\n",
              "    .colab-df-container {\n",
              "      display:flex;\n",
              "      gap: 12px;\n",
              "    }\n",
              "\n",
              "    .colab-df-convert {\n",
              "      background-color: #E8F0FE;\n",
              "      border: none;\n",
              "      border-radius: 50%;\n",
              "      cursor: pointer;\n",
              "      display: none;\n",
              "      fill: #1967D2;\n",
              "      height: 32px;\n",
              "      padding: 0 0 0 0;\n",
              "      width: 32px;\n",
              "    }\n",
              "\n",
              "    .colab-df-convert:hover {\n",
              "      background-color: #E2EBFA;\n",
              "      box-shadow: 0px 1px 2px rgba(60, 64, 67, 0.3), 0px 1px 3px 1px rgba(60, 64, 67, 0.15);\n",
              "      fill: #174EA6;\n",
              "    }\n",
              "\n",
              "    .colab-df-buttons div {\n",
              "      margin-bottom: 4px;\n",
              "    }\n",
              "\n",
              "    [theme=dark] .colab-df-convert {\n",
              "      background-color: #3B4455;\n",
              "      fill: #D2E3FC;\n",
              "    }\n",
              "\n",
              "    [theme=dark] .colab-df-convert:hover {\n",
              "      background-color: #434B5C;\n",
              "      box-shadow: 0px 1px 3px 1px rgba(0, 0, 0, 0.15);\n",
              "      filter: drop-shadow(0px 1px 2px rgba(0, 0, 0, 0.3));\n",
              "      fill: #FFFFFF;\n",
              "    }\n",
              "  </style>\n",
              "\n",
              "    <script>\n",
              "      const buttonEl =\n",
              "        document.querySelector('#df-c5ed0caa-498a-4d80-9ea6-011836527e56 button.colab-df-convert');\n",
              "      buttonEl.style.display =\n",
              "        google.colab.kernel.accessAllowed ? 'block' : 'none';\n",
              "\n",
              "      async function convertToInteractive(key) {\n",
              "        const element = document.querySelector('#df-c5ed0caa-498a-4d80-9ea6-011836527e56');\n",
              "        const dataTable =\n",
              "          await google.colab.kernel.invokeFunction('convertToInteractive',\n",
              "                                                    [key], {});\n",
              "        if (!dataTable) return;\n",
              "\n",
              "        const docLinkHtml = 'Like what you see? Visit the ' +\n",
              "          '<a target=\"_blank\" href=https://colab.research.google.com/notebooks/data_table.ipynb>data table notebook</a>'\n",
              "          + ' to learn more about interactive tables.';\n",
              "        element.innerHTML = '';\n",
              "        dataTable['output_type'] = 'display_data';\n",
              "        await google.colab.output.renderOutput(dataTable, element);\n",
              "        const docLink = document.createElement('div');\n",
              "        docLink.innerHTML = docLinkHtml;\n",
              "        element.appendChild(docLink);\n",
              "      }\n",
              "    </script>\n",
              "  </div>\n",
              "\n",
              "\n",
              "<div id=\"df-a48bdc59-c905-471e-af2c-0f66cd7fec4c\">\n",
              "  <button class=\"colab-df-quickchart\" onclick=\"quickchart('df-a48bdc59-c905-471e-af2c-0f66cd7fec4c')\"\n",
              "            title=\"Suggest charts\"\n",
              "            style=\"display:none;\">\n",
              "\n",
              "<svg xmlns=\"http://www.w3.org/2000/svg\" height=\"24px\"viewBox=\"0 0 24 24\"\n",
              "     width=\"24px\">\n",
              "    <g>\n",
              "        <path d=\"M19 3H5c-1.1 0-2 .9-2 2v14c0 1.1.9 2 2 2h14c1.1 0 2-.9 2-2V5c0-1.1-.9-2-2-2zM9 17H7v-7h2v7zm4 0h-2V7h2v10zm4 0h-2v-4h2v4z\"/>\n",
              "    </g>\n",
              "</svg>\n",
              "  </button>\n",
              "\n",
              "<style>\n",
              "  .colab-df-quickchart {\n",
              "      --bg-color: #E8F0FE;\n",
              "      --fill-color: #1967D2;\n",
              "      --hover-bg-color: #E2EBFA;\n",
              "      --hover-fill-color: #174EA6;\n",
              "      --disabled-fill-color: #AAA;\n",
              "      --disabled-bg-color: #DDD;\n",
              "  }\n",
              "\n",
              "  [theme=dark] .colab-df-quickchart {\n",
              "      --bg-color: #3B4455;\n",
              "      --fill-color: #D2E3FC;\n",
              "      --hover-bg-color: #434B5C;\n",
              "      --hover-fill-color: #FFFFFF;\n",
              "      --disabled-bg-color: #3B4455;\n",
              "      --disabled-fill-color: #666;\n",
              "  }\n",
              "\n",
              "  .colab-df-quickchart {\n",
              "    background-color: var(--bg-color);\n",
              "    border: none;\n",
              "    border-radius: 50%;\n",
              "    cursor: pointer;\n",
              "    display: none;\n",
              "    fill: var(--fill-color);\n",
              "    height: 32px;\n",
              "    padding: 0;\n",
              "    width: 32px;\n",
              "  }\n",
              "\n",
              "  .colab-df-quickchart:hover {\n",
              "    background-color: var(--hover-bg-color);\n",
              "    box-shadow: 0 1px 2px rgba(60, 64, 67, 0.3), 0 1px 3px 1px rgba(60, 64, 67, 0.15);\n",
              "    fill: var(--button-hover-fill-color);\n",
              "  }\n",
              "\n",
              "  .colab-df-quickchart-complete:disabled,\n",
              "  .colab-df-quickchart-complete:disabled:hover {\n",
              "    background-color: var(--disabled-bg-color);\n",
              "    fill: var(--disabled-fill-color);\n",
              "    box-shadow: none;\n",
              "  }\n",
              "\n",
              "  .colab-df-spinner {\n",
              "    border: 2px solid var(--fill-color);\n",
              "    border-color: transparent;\n",
              "    border-bottom-color: var(--fill-color);\n",
              "    animation:\n",
              "      spin 1s steps(1) infinite;\n",
              "  }\n",
              "\n",
              "  @keyframes spin {\n",
              "    0% {\n",
              "      border-color: transparent;\n",
              "      border-bottom-color: var(--fill-color);\n",
              "      border-left-color: var(--fill-color);\n",
              "    }\n",
              "    20% {\n",
              "      border-color: transparent;\n",
              "      border-left-color: var(--fill-color);\n",
              "      border-top-color: var(--fill-color);\n",
              "    }\n",
              "    30% {\n",
              "      border-color: transparent;\n",
              "      border-left-color: var(--fill-color);\n",
              "      border-top-color: var(--fill-color);\n",
              "      border-right-color: var(--fill-color);\n",
              "    }\n",
              "    40% {\n",
              "      border-color: transparent;\n",
              "      border-right-color: var(--fill-color);\n",
              "      border-top-color: var(--fill-color);\n",
              "    }\n",
              "    60% {\n",
              "      border-color: transparent;\n",
              "      border-right-color: var(--fill-color);\n",
              "    }\n",
              "    80% {\n",
              "      border-color: transparent;\n",
              "      border-right-color: var(--fill-color);\n",
              "      border-bottom-color: var(--fill-color);\n",
              "    }\n",
              "    90% {\n",
              "      border-color: transparent;\n",
              "      border-bottom-color: var(--fill-color);\n",
              "    }\n",
              "  }\n",
              "</style>\n",
              "\n",
              "  <script>\n",
              "    async function quickchart(key) {\n",
              "      const quickchartButtonEl =\n",
              "        document.querySelector('#' + key + ' button');\n",
              "      quickchartButtonEl.disabled = true;  // To prevent multiple clicks.\n",
              "      quickchartButtonEl.classList.add('colab-df-spinner');\n",
              "      try {\n",
              "        const charts = await google.colab.kernel.invokeFunction(\n",
              "            'suggestCharts', [key], {});\n",
              "      } catch (error) {\n",
              "        console.error('Error during call to suggestCharts:', error);\n",
              "      }\n",
              "      quickchartButtonEl.classList.remove('colab-df-spinner');\n",
              "      quickchartButtonEl.classList.add('colab-df-quickchart-complete');\n",
              "    }\n",
              "    (() => {\n",
              "      let quickchartButtonEl =\n",
              "        document.querySelector('#df-a48bdc59-c905-471e-af2c-0f66cd7fec4c button');\n",
              "      quickchartButtonEl.style.display =\n",
              "        google.colab.kernel.accessAllowed ? 'block' : 'none';\n",
              "    })();\n",
              "  </script>\n",
              "</div>\n",
              "    </div>\n",
              "  </div>\n"
            ]
          },
          "metadata": {},
          "execution_count": 66
        }
      ]
    },
    {
      "cell_type": "markdown",
      "source": [
        "Tabela przedstawia informacje na temat obserwacji UFO.\n",
        "Możemy się z niej dowiedzieć m.in. kiedy miało miejsce zdarzenie, w jakiej lokalizacji, jak długo trwało zdarzenie i jaki kształt miało UFO."
      ],
      "metadata": {
        "id": "9kQGC9_qg6Hv"
      }
    },
    {
      "cell_type": "markdown",
      "source": [
        "Wyświetlamy podstawowe informacje o tabeli: liczbę uzupełnionych wartości w każdej kolumnie i jaki typ danych znajduje się w każdej kolumnie."
      ],
      "metadata": {
        "id": "qiLgGeUwhvLC"
      }
    },
    {
      "cell_type": "code",
      "source": [
        "df.info()"
      ],
      "metadata": {
        "id": "V_FkwgCyJ_lT",
        "colab": {
          "base_uri": "https://localhost:8080/"
        },
        "outputId": "c4d7d4de-64c7-439f-b140-2ab6f38ec3d4"
      },
      "execution_count": null,
      "outputs": [
        {
          "output_type": "stream",
          "name": "stdout",
          "text": [
            "<class 'pandas.core.frame.DataFrame'>\n",
            "Int64Index: 80328 entries, 0 to 80327\n",
            "Data columns (total 16 columns):\n",
            " #   Column                       Non-Null Count  Dtype  \n",
            "---  ------                       --------------  -----  \n",
            " 0   Date_time                    80328 non-null  object \n",
            " 1   date_documented              80328 non-null  object \n",
            " 2   Year                         80328 non-null  int64  \n",
            " 3   Month                        80328 non-null  int64  \n",
            " 4   Hour                         80328 non-null  int64  \n",
            " 5   Season                       80328 non-null  object \n",
            " 6   Country_Code                 80069 non-null  object \n",
            " 7   Country                      80069 non-null  object \n",
            " 8   Region                       79762 non-null  object \n",
            " 9   Locale                       79871 non-null  object \n",
            " 10  latitude                     80328 non-null  float64\n",
            " 11  longitude                    80328 non-null  float64\n",
            " 12  UFO_shape                    78398 non-null  object \n",
            " 13  length_of_encounter_seconds  80328 non-null  float64\n",
            " 14  Encounter_Duration           80328 non-null  object \n",
            " 15  Description                  80313 non-null  object \n",
            "dtypes: float64(3), int64(3), object(10)\n",
            "memory usage: 10.4+ MB\n"
          ]
        }
      ]
    },
    {
      "cell_type": "markdown",
      "source": [
        "Wyświetlamy podstawowe informacje na temat kolumn z numerycznymi wartościami."
      ],
      "metadata": {
        "id": "_FJtR79jiCTN"
      }
    },
    {
      "cell_type": "code",
      "source": [
        "df.describe()"
      ],
      "metadata": {
        "id": "ZUH3hC1rJ-6v",
        "colab": {
          "base_uri": "https://localhost:8080/",
          "height": 300
        },
        "outputId": "10266ae9-b2e9-4c9d-ede5-0d35ead45a52"
      },
      "execution_count": null,
      "outputs": [
        {
          "output_type": "execute_result",
          "data": {
            "text/plain": [
              "               Year         Month          Hour      latitude     longitude  \\\n",
              "count  80328.000000  80328.000000  80328.000000  80328.000000  80328.000000   \n",
              "mean    2003.850463      6.835026     15.525172     38.124963    -86.772015   \n",
              "std       10.426547      3.234876      7.753750     10.469146     39.697805   \n",
              "min     1906.000000      1.000000      0.000000    -82.862752   -176.658056   \n",
              "25%     2001.000000      4.000000     10.000000     34.134722   -112.073333   \n",
              "50%     2006.000000      7.000000     19.000000     39.412500    -87.903611   \n",
              "75%     2011.000000      9.000000     21.000000     42.788333    -78.755000   \n",
              "max     2014.000000     12.000000     23.000000     72.700000    178.441900   \n",
              "\n",
              "       length_of_encounter_seconds  \n",
              "count                 8.032800e+04  \n",
              "mean                  9.017336e+03  \n",
              "std                   6.202322e+05  \n",
              "min                   1.000000e-03  \n",
              "25%                   3.000000e+01  \n",
              "50%                   1.800000e+02  \n",
              "75%                   6.000000e+02  \n",
              "max                   9.783600e+07  "
            ],
            "text/html": [
              "\n",
              "  <div id=\"df-92b2dcee-deb1-476c-b8c6-967d5f8576b0\" class=\"colab-df-container\">\n",
              "    <div>\n",
              "<style scoped>\n",
              "    .dataframe tbody tr th:only-of-type {\n",
              "        vertical-align: middle;\n",
              "    }\n",
              "\n",
              "    .dataframe tbody tr th {\n",
              "        vertical-align: top;\n",
              "    }\n",
              "\n",
              "    .dataframe thead th {\n",
              "        text-align: right;\n",
              "    }\n",
              "</style>\n",
              "<table border=\"1\" class=\"dataframe\">\n",
              "  <thead>\n",
              "    <tr style=\"text-align: right;\">\n",
              "      <th></th>\n",
              "      <th>Year</th>\n",
              "      <th>Month</th>\n",
              "      <th>Hour</th>\n",
              "      <th>latitude</th>\n",
              "      <th>longitude</th>\n",
              "      <th>length_of_encounter_seconds</th>\n",
              "    </tr>\n",
              "  </thead>\n",
              "  <tbody>\n",
              "    <tr>\n",
              "      <th>count</th>\n",
              "      <td>80328.000000</td>\n",
              "      <td>80328.000000</td>\n",
              "      <td>80328.000000</td>\n",
              "      <td>80328.000000</td>\n",
              "      <td>80328.000000</td>\n",
              "      <td>8.032800e+04</td>\n",
              "    </tr>\n",
              "    <tr>\n",
              "      <th>mean</th>\n",
              "      <td>2003.850463</td>\n",
              "      <td>6.835026</td>\n",
              "      <td>15.525172</td>\n",
              "      <td>38.124963</td>\n",
              "      <td>-86.772015</td>\n",
              "      <td>9.017336e+03</td>\n",
              "    </tr>\n",
              "    <tr>\n",
              "      <th>std</th>\n",
              "      <td>10.426547</td>\n",
              "      <td>3.234876</td>\n",
              "      <td>7.753750</td>\n",
              "      <td>10.469146</td>\n",
              "      <td>39.697805</td>\n",
              "      <td>6.202322e+05</td>\n",
              "    </tr>\n",
              "    <tr>\n",
              "      <th>min</th>\n",
              "      <td>1906.000000</td>\n",
              "      <td>1.000000</td>\n",
              "      <td>0.000000</td>\n",
              "      <td>-82.862752</td>\n",
              "      <td>-176.658056</td>\n",
              "      <td>1.000000e-03</td>\n",
              "    </tr>\n",
              "    <tr>\n",
              "      <th>25%</th>\n",
              "      <td>2001.000000</td>\n",
              "      <td>4.000000</td>\n",
              "      <td>10.000000</td>\n",
              "      <td>34.134722</td>\n",
              "      <td>-112.073333</td>\n",
              "      <td>3.000000e+01</td>\n",
              "    </tr>\n",
              "    <tr>\n",
              "      <th>50%</th>\n",
              "      <td>2006.000000</td>\n",
              "      <td>7.000000</td>\n",
              "      <td>19.000000</td>\n",
              "      <td>39.412500</td>\n",
              "      <td>-87.903611</td>\n",
              "      <td>1.800000e+02</td>\n",
              "    </tr>\n",
              "    <tr>\n",
              "      <th>75%</th>\n",
              "      <td>2011.000000</td>\n",
              "      <td>9.000000</td>\n",
              "      <td>21.000000</td>\n",
              "      <td>42.788333</td>\n",
              "      <td>-78.755000</td>\n",
              "      <td>6.000000e+02</td>\n",
              "    </tr>\n",
              "    <tr>\n",
              "      <th>max</th>\n",
              "      <td>2014.000000</td>\n",
              "      <td>12.000000</td>\n",
              "      <td>23.000000</td>\n",
              "      <td>72.700000</td>\n",
              "      <td>178.441900</td>\n",
              "      <td>9.783600e+07</td>\n",
              "    </tr>\n",
              "  </tbody>\n",
              "</table>\n",
              "</div>\n",
              "    <div class=\"colab-df-buttons\">\n",
              "\n",
              "  <div class=\"colab-df-container\">\n",
              "    <button class=\"colab-df-convert\" onclick=\"convertToInteractive('df-92b2dcee-deb1-476c-b8c6-967d5f8576b0')\"\n",
              "            title=\"Convert this dataframe to an interactive table.\"\n",
              "            style=\"display:none;\">\n",
              "\n",
              "  <svg xmlns=\"http://www.w3.org/2000/svg\" height=\"24px\" viewBox=\"0 -960 960 960\">\n",
              "    <path d=\"M120-120v-720h720v720H120Zm60-500h600v-160H180v160Zm220 220h160v-160H400v160Zm0 220h160v-160H400v160ZM180-400h160v-160H180v160Zm440 0h160v-160H620v160ZM180-180h160v-160H180v160Zm440 0h160v-160H620v160Z\"/>\n",
              "  </svg>\n",
              "    </button>\n",
              "\n",
              "  <style>\n",
              "    .colab-df-container {\n",
              "      display:flex;\n",
              "      gap: 12px;\n",
              "    }\n",
              "\n",
              "    .colab-df-convert {\n",
              "      background-color: #E8F0FE;\n",
              "      border: none;\n",
              "      border-radius: 50%;\n",
              "      cursor: pointer;\n",
              "      display: none;\n",
              "      fill: #1967D2;\n",
              "      height: 32px;\n",
              "      padding: 0 0 0 0;\n",
              "      width: 32px;\n",
              "    }\n",
              "\n",
              "    .colab-df-convert:hover {\n",
              "      background-color: #E2EBFA;\n",
              "      box-shadow: 0px 1px 2px rgba(60, 64, 67, 0.3), 0px 1px 3px 1px rgba(60, 64, 67, 0.15);\n",
              "      fill: #174EA6;\n",
              "    }\n",
              "\n",
              "    .colab-df-buttons div {\n",
              "      margin-bottom: 4px;\n",
              "    }\n",
              "\n",
              "    [theme=dark] .colab-df-convert {\n",
              "      background-color: #3B4455;\n",
              "      fill: #D2E3FC;\n",
              "    }\n",
              "\n",
              "    [theme=dark] .colab-df-convert:hover {\n",
              "      background-color: #434B5C;\n",
              "      box-shadow: 0px 1px 3px 1px rgba(0, 0, 0, 0.15);\n",
              "      filter: drop-shadow(0px 1px 2px rgba(0, 0, 0, 0.3));\n",
              "      fill: #FFFFFF;\n",
              "    }\n",
              "  </style>\n",
              "\n",
              "    <script>\n",
              "      const buttonEl =\n",
              "        document.querySelector('#df-92b2dcee-deb1-476c-b8c6-967d5f8576b0 button.colab-df-convert');\n",
              "      buttonEl.style.display =\n",
              "        google.colab.kernel.accessAllowed ? 'block' : 'none';\n",
              "\n",
              "      async function convertToInteractive(key) {\n",
              "        const element = document.querySelector('#df-92b2dcee-deb1-476c-b8c6-967d5f8576b0');\n",
              "        const dataTable =\n",
              "          await google.colab.kernel.invokeFunction('convertToInteractive',\n",
              "                                                    [key], {});\n",
              "        if (!dataTable) return;\n",
              "\n",
              "        const docLinkHtml = 'Like what you see? Visit the ' +\n",
              "          '<a target=\"_blank\" href=https://colab.research.google.com/notebooks/data_table.ipynb>data table notebook</a>'\n",
              "          + ' to learn more about interactive tables.';\n",
              "        element.innerHTML = '';\n",
              "        dataTable['output_type'] = 'display_data';\n",
              "        await google.colab.output.renderOutput(dataTable, element);\n",
              "        const docLink = document.createElement('div');\n",
              "        docLink.innerHTML = docLinkHtml;\n",
              "        element.appendChild(docLink);\n",
              "      }\n",
              "    </script>\n",
              "  </div>\n",
              "\n",
              "\n",
              "<div id=\"df-b1079b90-be33-4f7d-a2ce-200e9fb5b6f2\">\n",
              "  <button class=\"colab-df-quickchart\" onclick=\"quickchart('df-b1079b90-be33-4f7d-a2ce-200e9fb5b6f2')\"\n",
              "            title=\"Suggest charts\"\n",
              "            style=\"display:none;\">\n",
              "\n",
              "<svg xmlns=\"http://www.w3.org/2000/svg\" height=\"24px\"viewBox=\"0 0 24 24\"\n",
              "     width=\"24px\">\n",
              "    <g>\n",
              "        <path d=\"M19 3H5c-1.1 0-2 .9-2 2v14c0 1.1.9 2 2 2h14c1.1 0 2-.9 2-2V5c0-1.1-.9-2-2-2zM9 17H7v-7h2v7zm4 0h-2V7h2v10zm4 0h-2v-4h2v4z\"/>\n",
              "    </g>\n",
              "</svg>\n",
              "  </button>\n",
              "\n",
              "<style>\n",
              "  .colab-df-quickchart {\n",
              "      --bg-color: #E8F0FE;\n",
              "      --fill-color: #1967D2;\n",
              "      --hover-bg-color: #E2EBFA;\n",
              "      --hover-fill-color: #174EA6;\n",
              "      --disabled-fill-color: #AAA;\n",
              "      --disabled-bg-color: #DDD;\n",
              "  }\n",
              "\n",
              "  [theme=dark] .colab-df-quickchart {\n",
              "      --bg-color: #3B4455;\n",
              "      --fill-color: #D2E3FC;\n",
              "      --hover-bg-color: #434B5C;\n",
              "      --hover-fill-color: #FFFFFF;\n",
              "      --disabled-bg-color: #3B4455;\n",
              "      --disabled-fill-color: #666;\n",
              "  }\n",
              "\n",
              "  .colab-df-quickchart {\n",
              "    background-color: var(--bg-color);\n",
              "    border: none;\n",
              "    border-radius: 50%;\n",
              "    cursor: pointer;\n",
              "    display: none;\n",
              "    fill: var(--fill-color);\n",
              "    height: 32px;\n",
              "    padding: 0;\n",
              "    width: 32px;\n",
              "  }\n",
              "\n",
              "  .colab-df-quickchart:hover {\n",
              "    background-color: var(--hover-bg-color);\n",
              "    box-shadow: 0 1px 2px rgba(60, 64, 67, 0.3), 0 1px 3px 1px rgba(60, 64, 67, 0.15);\n",
              "    fill: var(--button-hover-fill-color);\n",
              "  }\n",
              "\n",
              "  .colab-df-quickchart-complete:disabled,\n",
              "  .colab-df-quickchart-complete:disabled:hover {\n",
              "    background-color: var(--disabled-bg-color);\n",
              "    fill: var(--disabled-fill-color);\n",
              "    box-shadow: none;\n",
              "  }\n",
              "\n",
              "  .colab-df-spinner {\n",
              "    border: 2px solid var(--fill-color);\n",
              "    border-color: transparent;\n",
              "    border-bottom-color: var(--fill-color);\n",
              "    animation:\n",
              "      spin 1s steps(1) infinite;\n",
              "  }\n",
              "\n",
              "  @keyframes spin {\n",
              "    0% {\n",
              "      border-color: transparent;\n",
              "      border-bottom-color: var(--fill-color);\n",
              "      border-left-color: var(--fill-color);\n",
              "    }\n",
              "    20% {\n",
              "      border-color: transparent;\n",
              "      border-left-color: var(--fill-color);\n",
              "      border-top-color: var(--fill-color);\n",
              "    }\n",
              "    30% {\n",
              "      border-color: transparent;\n",
              "      border-left-color: var(--fill-color);\n",
              "      border-top-color: var(--fill-color);\n",
              "      border-right-color: var(--fill-color);\n",
              "    }\n",
              "    40% {\n",
              "      border-color: transparent;\n",
              "      border-right-color: var(--fill-color);\n",
              "      border-top-color: var(--fill-color);\n",
              "    }\n",
              "    60% {\n",
              "      border-color: transparent;\n",
              "      border-right-color: var(--fill-color);\n",
              "    }\n",
              "    80% {\n",
              "      border-color: transparent;\n",
              "      border-right-color: var(--fill-color);\n",
              "      border-bottom-color: var(--fill-color);\n",
              "    }\n",
              "    90% {\n",
              "      border-color: transparent;\n",
              "      border-bottom-color: var(--fill-color);\n",
              "    }\n",
              "  }\n",
              "</style>\n",
              "\n",
              "  <script>\n",
              "    async function quickchart(key) {\n",
              "      const quickchartButtonEl =\n",
              "        document.querySelector('#' + key + ' button');\n",
              "      quickchartButtonEl.disabled = true;  // To prevent multiple clicks.\n",
              "      quickchartButtonEl.classList.add('colab-df-spinner');\n",
              "      try {\n",
              "        const charts = await google.colab.kernel.invokeFunction(\n",
              "            'suggestCharts', [key], {});\n",
              "      } catch (error) {\n",
              "        console.error('Error during call to suggestCharts:', error);\n",
              "      }\n",
              "      quickchartButtonEl.classList.remove('colab-df-spinner');\n",
              "      quickchartButtonEl.classList.add('colab-df-quickchart-complete');\n",
              "    }\n",
              "    (() => {\n",
              "      let quickchartButtonEl =\n",
              "        document.querySelector('#df-b1079b90-be33-4f7d-a2ce-200e9fb5b6f2 button');\n",
              "      quickchartButtonEl.style.display =\n",
              "        google.colab.kernel.accessAllowed ? 'block' : 'none';\n",
              "    })();\n",
              "  </script>\n",
              "</div>\n",
              "    </div>\n",
              "  </div>\n"
            ]
          },
          "metadata": {},
          "execution_count": 69
        }
      ]
    },
    {
      "cell_type": "markdown",
      "source": [
        "Sprawdź, ile jest brakujących wartości w każdej kolumnie przy pomocy odpowiedniej komendy w pandasie. Na podstawie danych będziemy chcieli opracować model do predykcji pory roku. Zwróć szczególną uwagą na to, czy komórka z porą roku zawiera brakujące wartości."
      ],
      "metadata": {
        "id": "KQnzefiDiPuZ"
      }
    },
    {
      "cell_type": "code",
      "source": [
        "df.isnull().sum()"
      ],
      "metadata": {
        "id": "xFhJxhaDKDKZ",
        "colab": {
          "base_uri": "https://localhost:8080/"
        },
        "outputId": "f09ce25a-2618-46a2-b7d7-9bbb3d50c7c4"
      },
      "execution_count": null,
      "outputs": [
        {
          "output_type": "execute_result",
          "data": {
            "text/plain": [
              "Date_time                         0\n",
              "date_documented                   0\n",
              "Year                              0\n",
              "Month                             0\n",
              "Hour                              0\n",
              "Season                            0\n",
              "Country_Code                    259\n",
              "Country                         259\n",
              "Region                          566\n",
              "Locale                          457\n",
              "latitude                          0\n",
              "longitude                         0\n",
              "UFO_shape                      1930\n",
              "length_of_encounter_seconds       0\n",
              "Encounter_Duration                0\n",
              "Description                      15\n",
              "dtype: int64"
            ]
          },
          "metadata": {},
          "execution_count": 70
        }
      ]
    },
    {
      "cell_type": "markdown",
      "source": [
        "Uzupełnij brakujące wartości wartością, która najczęściej występuje w danej kolumnie.\n",
        "\n",
        "Skorzystaj z SimpleImputer z sklearn ze strategią \"most frequent\".\n"
      ],
      "metadata": {
        "id": "IWvQSCgfiwfe"
      }
    },
    {
      "cell_type": "code",
      "source": [
        "from sklearn.impute import SimpleImputer\n",
        "import numpy as np\n",
        "df = df.fillna(np.nan)\n",
        "imputer = SimpleImputer(strategy='most_frequent')\n",
        "df = pd.DataFrame(imputer.fit_transform(df), columns=df.columns)"
      ],
      "metadata": {
        "id": "cbk0AwJMLTw9"
      },
      "execution_count": null,
      "outputs": []
    },
    {
      "cell_type": "markdown",
      "source": [
        "Sprawdź, czy dalej mamy jakieś brakujące wartości."
      ],
      "metadata": {
        "id": "0AWGOuAQjvHp"
      }
    },
    {
      "cell_type": "code",
      "source": [
        "df.isnull().sum()"
      ],
      "metadata": {
        "id": "OfThT1i1Ko7G",
        "colab": {
          "base_uri": "https://localhost:8080/"
        },
        "outputId": "127026e8-43f0-4fbe-c320-96e03609dd2e"
      },
      "execution_count": null,
      "outputs": [
        {
          "output_type": "execute_result",
          "data": {
            "text/plain": [
              "Date_time                      0\n",
              "date_documented                0\n",
              "Year                           0\n",
              "Month                          0\n",
              "Hour                           0\n",
              "Season                         0\n",
              "Country_Code                   0\n",
              "Country                        0\n",
              "Region                         0\n",
              "Locale                         0\n",
              "latitude                       0\n",
              "longitude                      0\n",
              "UFO_shape                      0\n",
              "length_of_encounter_seconds    0\n",
              "Encounter_Duration             0\n",
              "Description                    0\n",
              "dtype: int64"
            ]
          },
          "metadata": {},
          "execution_count": 72
        }
      ]
    },
    {
      "cell_type": "markdown",
      "source": [
        "Zmodyfikuj df tak, żeby zawierał tylko komórki potrzebne do predykcji:\n",
        "- Country\n",
        "- UFO_shape\n",
        "- length_of_encounter_seconds\n",
        "- Season"
      ],
      "metadata": {
        "id": "PkyhzHT-lO7Z"
      }
    },
    {
      "cell_type": "code",
      "source": [
        "df = df[['Country', 'UFO_shape', 'length_of_encounter_seconds', 'Season']]"
      ],
      "metadata": {
        "id": "KyLude5HlNig"
      },
      "execution_count": null,
      "outputs": []
    },
    {
      "cell_type": "markdown",
      "source": [
        "Sprawdź, ile mamy przykładów z danego kraju. Zachowaj wylko wiersze dla 10 najczęściej występujących krajów."
      ],
      "metadata": {
        "id": "nc8UyeYZj4X0"
      }
    },
    {
      "cell_type": "code",
      "source": [
        "top_countries = df['Country'].value_counts()[:10].index\n",
        "df = df[df['Country'].isin(top_countries)]"
      ],
      "metadata": {
        "id": "VCIiwq6oQ3pG"
      },
      "execution_count": null,
      "outputs": []
    },
    {
      "cell_type": "markdown",
      "source": [
        "Przyjrzyj się częstościom obserwacji poszczególnych kształtów UFO. Czy nie ma tam brakujących wartości?\n",
        "Usuń wiersze, dla których nie wiadomo w jakim kształcie było UFO."
      ],
      "metadata": {
        "id": "QGgqm9fSkbzN"
      }
    },
    {
      "cell_type": "code",
      "source": [
        "df = df.dropna(subset=['UFO_shape'])"
      ],
      "metadata": {
        "id": "xd9ktqiGRtry"
      },
      "execution_count": null,
      "outputs": []
    },
    {
      "cell_type": "markdown",
      "source": [
        "Sprawdź, w jakim kształcie obserwowano spodki. Kształty, które wystąpiły mniej niż 200 razy zamień na \"Other\"."
      ],
      "metadata": {
        "id": "cICjN6EKkKF7"
      }
    },
    {
      "cell_type": "code",
      "source": [
        "shape_counts = df['UFO_shape'].value_counts()\n",
        "shapes_to_replace = shape_counts[shape_counts < 200].index\n",
        "df.loc[df['UFO_shape'].isin(shapes_to_replace), 'UFO_shape'] = 'Other'"
      ],
      "metadata": {
        "id": "gKU1BmQxlJbI"
      },
      "execution_count": null,
      "outputs": []
    },
    {
      "cell_type": "markdown",
      "source": [
        "## Zadanie 3"
      ],
      "metadata": {
        "id": "igzm64jinILN"
      }
    },
    {
      "cell_type": "markdown",
      "source": [
        "Usuń wartosci odstające z kolumny length_of_encounter_seconds.\n",
        "\n",
        "Interquartile Range (IQR) jest miarą rozproszenia danych.\n",
        "\n",
        "IQR oblicza się jako różnicę między pierwszym kwartylem (Q1) a trzecim kwartylem (Q3) zbioru danych. Kwartyle dzielą zbiór danych na cztery równe części. IQR reprezentuje środkowe 50% danych.\n",
        "\n",
        "Q1 - pierwszy kwartyl, 25. percentyl\n",
        "Q3 - trzeci kwartyl, 75. percentyl\n",
        "\n",
        "IQR jest pomocny do wyznaczania wartości odstających."
      ],
      "metadata": {
        "id": "FUtcy5GalHPA"
      }
    },
    {
      "cell_type": "code",
      "source": [
        "# Step 1: Policz IQR dla kolumny length_of_encounter_seconds\n",
        "Q1 = df['length_of_encounter_seconds'].quantile(0.25)\n",
        "Q3 = df['length_of_encounter_seconds'].quantile(0.75)\n",
        "IQR = Q3 - Q1\n",
        "\n",
        "# Step 2: Określ górną i dolną granicę Define lower and upper bounds\n",
        "lower_bound = Q1 - 1.5 * IQR\n",
        "upper_bound = Q3 + 1.5 * IQR\n",
        "\n",
        "# Step 3: Usuń wiersze z wartościami poza przediałem (lower_bound, upper_bound).\n",
        "df_filtered = df[(df['length_of_encounter_seconds'] >= lower_bound) &\n",
        "                 (df['length_of_encounter_seconds'] <= upper_bound)]\n",
        "\n",
        "# Wyświetl wynik\n",
        "print(df_filtered)"
      ],
      "metadata": {
        "id": "qkapYyDilxZq",
        "colab": {
          "base_uri": "https://localhost:8080/"
        },
        "outputId": "f6e56c94-1b61-418e-b4e8-a40a554fe29e"
      },
      "execution_count": null,
      "outputs": [
        {
          "output_type": "stream",
          "name": "stdout",
          "text": [
            "              Country UFO_shape length_of_encounter_seconds  Season\n",
            "2      United Kingdom    Circle                        20.0  Autumn\n",
            "3       United States    Circle                        20.0  Autumn\n",
            "4       United States     Light                       900.0  Autumn\n",
            "5       United States    Sphere                       300.0  Autumn\n",
            "6      United Kingdom    Circle                       180.0  Autumn\n",
            "...               ...       ...                         ...     ...\n",
            "80323   United States     Light                       600.0  Autumn\n",
            "80324   United States    Circle                      1200.0  Autumn\n",
            "80325   United States     Other                      1200.0  Autumn\n",
            "80326   United States    Circle                         5.0  Autumn\n",
            "80327   United States     Cigar                      1020.0  Autumn\n",
            "\n",
            "[68317 rows x 4 columns]\n"
          ]
        }
      ]
    },
    {
      "cell_type": "markdown",
      "source": [
        "Sprawdź, czy dane są zbalansowane. Sprawdź, jaki jest rozkład wartości w kolumnie informującej o porach roku."
      ],
      "metadata": {
        "id": "HijwG7KOnZRh"
      }
    },
    {
      "cell_type": "markdown",
      "source": [
        "Podziel zbiór danych na wartości wejściowe do modelu -- X oraz wartości wyjściowe y."
      ],
      "metadata": {
        "id": "B-M599rGnAZv"
      }
    },
    {
      "cell_type": "code",
      "source": [
        "X = df_filtered[['Country', 'UFO_shape', 'length_of_encounter_seconds']]\n",
        "y = df_filtered['Season']"
      ],
      "metadata": {
        "id": "_RNGhyJUPXpg"
      },
      "execution_count": null,
      "outputs": []
    },
    {
      "cell_type": "markdown",
      "source": [
        "Podziel zbiór na treningowy i testowy w proporcjach 80-20 przy pomocy metody train_test_split z sklearn. Pamiętaj, żeby ustawić parametr startify=y, żeby mieć taki sam rozkład klas w obu zbiorach."
      ],
      "metadata": {
        "id": "CvfWmgfLnq2l"
      }
    },
    {
      "cell_type": "code",
      "source": [
        "from sklearn.model_selection import train_test_split\n",
        "\n",
        "X_train, X_test, y_train, y_test = train_test_split(X, y, test_size=0.2, stratify=y)"
      ],
      "metadata": {
        "id": "_NHsArhQnkZO"
      },
      "execution_count": null,
      "outputs": []
    },
    {
      "cell_type": "markdown",
      "source": [
        "Zapisz zbiór treningowy i  testowy do osobnych plików csv w folderze data."
      ],
      "metadata": {
        "id": "Jh2ZBQmJn2TH"
      }
    },
    {
      "cell_type": "code",
      "source": [
        "X_train.to_csv('lab5/data/X_train.csv', index=False)\n",
        "X_test.to_csv('lab5/data/X_test.csv', index=False)\n",
        "y_train.to_csv('lab5/data/y_train.csv', index=False)\n",
        "y_test.to_csv('lab5/data/y_test.csv', index=False)"
      ],
      "metadata": {
        "id": "4uRjKsulqroI"
      },
      "execution_count": null,
      "outputs": []
    },
    {
      "cell_type": "markdown",
      "source": [
        "Dodaj dane do dvc."
      ],
      "metadata": {
        "id": "DQ9RchaMoF20"
      }
    },
    {
      "cell_type": "code",
      "source": [
        "! dvc add lab5/data/X_train.csv\n",
        "! dvc add lab5/data/X_test.csv\n",
        "! dvc add lab5/data/y_train.csv\n",
        "! dvc add lab5/data/y_test.csv"
      ],
      "metadata": {
        "id": "o1-vQdjfoFOt",
        "colab": {
          "base_uri": "https://localhost:8080/"
        },
        "outputId": "b0c04634-e7b3-4c8d-bf99-3a27ff0c53dc"
      },
      "execution_count": null,
      "outputs": [
        {
          "output_type": "stream",
          "name": "stdout",
          "text": [
            "\u001b[?25l\u001b[32m⠋\u001b[0m Checking graph\n",
            "Adding...:   0% 0/1 [00:00<?, ?file/s{'info': ''}]\n",
            "!\u001b[A\n",
            "          |0.00 [00:00,     ?file/s]\u001b[A\n",
            "                                    \u001b[A\n",
            "!\u001b[A\n",
            "  0% |          |0/? [00:00<?,    ?files/s]\u001b[A\n",
            "                                           \u001b[A\n",
            "!\u001b[A\n",
            "  0%|          |Adding lab5/data/X_train.csv to cache 0/? [00:00<?,     ?file/s]\u001b[A\n",
            "Adding lab5/data/X_train.csv to cache:   0% 0/1 [00:00<?, ?file/s{'info': ''}]  \u001b[A\n",
            "Adding lab5/data/X_train.csv to cache:   0% 0/1 [00:00<?, ?file/s{'info': ''}]\u001b[A\n",
            "                                                                              \u001b[A\n",
            "!\u001b[A\n",
            "  0%|          |Checking out /content/lab5/data/X_trai0/? [00:00<?,    ?files/s]\u001b[A\n",
            "  0% 0/1 [00:00<?, ?files/s{'info': ''}]                                        \u001b[A\n",
            "Adding...: 100% 1/1 [00:00<00:00, 22.76file/s{'info': ''}]\n",
            "\n",
            "To track the changes with git, run:\n",
            "\n",
            "\tgit add lab5/data/X_train.csv.dvc lab5/data/.gitignore\n",
            "\n",
            "To enable auto staging, run:\n",
            "\n",
            "\tdvc config core.autostage true\n",
            "\u001b[?25l\u001b[32m⠋\u001b[0m Checking graph\n",
            "Adding...:   0% 0/1 [00:00<?, ?file/s{'info': ''}]\n",
            "!\u001b[A\n",
            "          |0.00 [00:00,     ?file/s]\u001b[A\n",
            "                                    \u001b[A\n",
            "!\u001b[A\n",
            "  0% |          |0/? [00:00<?,    ?files/s]\u001b[A\n",
            "                                           \u001b[A\n",
            "!\u001b[A\n",
            "  0%|          |Adding lab5/data/X_test.csv to cache  0/? [00:00<?,     ?file/s]\u001b[A\n",
            "Adding lab5/data/X_test.csv to cache:   0% 0/1 [00:00<?, ?file/s{'info': ''}]   \u001b[A\n",
            "Adding lab5/data/X_test.csv to cache:   0% 0/1 [00:00<?, ?file/s{'info': ''}]\u001b[A\n",
            "                                                                             \u001b[A\n",
            "!\u001b[A\n",
            "  0%|          |Checking out /content/lab5/data/X_test0/? [00:00<?,    ?files/s]\u001b[A\n",
            "  0% 0/1 [00:00<?, ?files/s{'info': ''}]                                        \u001b[A\n",
            "Adding...: 100% 1/1 [00:00<00:00, 23.12file/s{'info': ''}]\n",
            "\n",
            "To track the changes with git, run:\n",
            "\n",
            "\tgit add lab5/data/.gitignore lab5/data/X_test.csv.dvc\n",
            "\n",
            "To enable auto staging, run:\n",
            "\n",
            "\tdvc config core.autostage true\n",
            "\u001b[?25l\u001b[32m⠋\u001b[0m Checking graph\n",
            "Adding...:   0% 0/1 [00:00<?, ?file/s{'info': ''}]\n",
            "!\u001b[A\n",
            "          |0.00 [00:00,     ?file/s]\u001b[A\n",
            "                                    \u001b[A\n",
            "!\u001b[A\n",
            "  0% |          |0/? [00:00<?,    ?files/s]\u001b[A\n",
            "                                           \u001b[A\n",
            "!\u001b[A\n",
            "  0%|          |Adding lab5/data/y_train.csv to cache 0/? [00:00<?,     ?file/s]\u001b[A\n",
            "Adding lab5/data/y_train.csv to cache:   0% 0/1 [00:00<?, ?file/s{'info': ''}]  \u001b[A\n",
            "Adding lab5/data/y_train.csv to cache:   0% 0/1 [00:00<?, ?file/s{'info': ''}]\u001b[A\n",
            "                                                                              \u001b[A\n",
            "!\u001b[A\n",
            "  0%|          |Checking out /content/lab5/data/y_trai0/? [00:00<?,    ?files/s]\u001b[A\n",
            "  0% 0/1 [00:00<?, ?files/s{'info': ''}]                                        \u001b[A\n",
            "Adding...: 100% 1/1 [00:00<00:00, 20.65file/s{'info': ''}]\n",
            "\n",
            "To track the changes with git, run:\n",
            "\n",
            "\tgit add lab5/data/y_train.csv.dvc lab5/data/.gitignore\n",
            "\n",
            "To enable auto staging, run:\n",
            "\n",
            "\tdvc config core.autostage true\n",
            "\u001b[?25l\u001b[32m⠋\u001b[0m Checking graph\n",
            "Adding...:   0% 0/1 [00:00<?, ?file/s{'info': ''}]\n",
            "!\u001b[A\n",
            "          |0.00 [00:00,     ?file/s]\u001b[A\n",
            "                                    \u001b[A\n",
            "!\u001b[A\n",
            "  0% |          |0/? [00:00<?,    ?files/s]\u001b[A\n",
            "                                           \u001b[A\n",
            "!\u001b[A\n",
            "  0%|          |Adding lab5/data/y_test.csv to cache  0/? [00:00<?,     ?file/s]\u001b[A\n",
            "Adding lab5/data/y_test.csv to cache:   0% 0/1 [00:00<?, ?file/s{'info': ''}]   \u001b[A\n",
            "Adding lab5/data/y_test.csv to cache:   0% 0/1 [00:00<?, ?file/s{'info': ''}]\u001b[A\n",
            "                                                                             \u001b[A\n",
            "!\u001b[A\n",
            "  0%|          |Checking out /content/lab5/data/y_test0/? [00:00<?,    ?files/s]\u001b[A\n",
            "  0% 0/1 [00:00<?, ?files/s{'info': ''}]                                        \u001b[A\n",
            "Adding...: 100% 1/1 [00:00<00:00, 19.48file/s{'info': ''}]\n",
            "\n",
            "To track the changes with git, run:\n",
            "\n",
            "\tgit add lab5/data/.gitignore lab5/data/y_test.csv.dvc\n",
            "\n",
            "To enable auto staging, run:\n",
            "\n",
            "\tdvc config core.autostage true\n",
            "\u001b[0m"
          ]
        }
      ]
    },
    {
      "cell_type": "markdown",
      "source": [
        "Wrzuć commita na gita z odpowiednią wiadomością o tym, że dodaliśmy dane przygotowane do treningu."
      ],
      "metadata": {
        "id": "3IJBWkVeoJ9X"
      }
    },
    {
      "cell_type": "code",
      "source": [
        "! git add lab5/data/.gitignore lab5/data/X_train.csv.dvc lab5/data/y_train.csv.dvc\n",
        "! git commit -m \"Dodano przygotowane dane do treningu\""
      ],
      "metadata": {
        "id": "KesUyvITXj9_",
        "colab": {
          "base_uri": "https://localhost:8080/"
        },
        "outputId": "d6c871ed-76d4-4be2-cfa2-83a43284a412"
      },
      "execution_count": null,
      "outputs": [
        {
          "output_type": "stream",
          "name": "stdout",
          "text": [
            "[master 74705fc] Dodano przygotowane dane do treningu\n",
            " 3 files changed, 15 insertions(+)\n",
            " create mode 100644 lab5/data/.gitignore\n",
            " create mode 100644 lab5/data/X_train.csv.dvc\n",
            " create mode 100644 lab5/data/y_train.csv.dvc\n"
          ]
        }
      ]
    }
  ]
}