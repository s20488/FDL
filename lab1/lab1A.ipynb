{
  "nbformat": 4,
  "nbformat_minor": 0,
  "metadata": {
    "colab": {
      "provenance": [],
      "toc_visible": true
    },
    "kernelspec": {
      "name": "python3",
      "display_name": "Python 3"
    },
    "language_info": {
      "name": "python"
    }
  },
  "cells": [
    {
      "cell_type": "markdown",
      "source": [
        "# SIWA Lab 2 - Wprowadzenie  do torcha"
      ],
      "metadata": {
        "id": "cy7RHgyLtxZv"
      }
    },
    {
      "cell_type": "code",
      "source": [
        "import numpy as np\n",
        "import torch\n",
        "import time"
      ],
      "metadata": {
        "id": "IZ-q4uByxJc5"
      },
      "execution_count": null,
      "outputs": []
    },
    {
      "cell_type": "markdown",
      "source": [
        "### 1. Tworzymy tensory"
      ],
      "metadata": {
        "id": "8yWvLeJr_erY"
      }
    },
    {
      "cell_type": "markdown",
      "source": [
        "1.1 Tworzymy  tensor bezpośrednio z danych."
      ],
      "metadata": {
        "id": "mmJlzmhD_YG4"
      }
    },
    {
      "cell_type": "code",
      "source": [
        "data = [[1, 2],[3, 4]]\n",
        "x_data = torch.tensor(data)"
      ],
      "metadata": {
        "id": "iCJfTOAW_XsU"
      },
      "execution_count": null,
      "outputs": []
    },
    {
      "cell_type": "markdown",
      "source": [],
      "metadata": {
        "id": "Yu81wJ6fcqAW"
      }
    },
    {
      "cell_type": "markdown",
      "source": [
        "1.2 Tworzymy tensor z numpy array"
      ],
      "metadata": {
        "id": "FNtWW7OX_rXw"
      }
    },
    {
      "cell_type": "code",
      "source": [
        "np_array = np.array(data)\n",
        "x_np = torch.from_numpy(np_array)"
      ],
      "metadata": {
        "id": "1uKqDIIR_rdA"
      },
      "execution_count": null,
      "outputs": []
    },
    {
      "cell_type": "markdown",
      "source": [
        "1.3 Tworzymy tensor z samymi jedynkami o takim samym rozmiarze, co X."
      ],
      "metadata": {
        "id": "cqRFOiE7_0lo"
      }
    },
    {
      "cell_type": "code",
      "source": [
        "x_ones = torch.ones_like(x_np)\n",
        "x_ones"
      ],
      "metadata": {
        "id": "x99ivvGB_0rn",
        "colab": {
          "base_uri": "https://localhost:8080/"
        },
        "outputId": "933e973c-b2e0-4e46-f092-526b38ef01a0"
      },
      "execution_count": null,
      "outputs": [
        {
          "output_type": "execute_result",
          "data": {
            "text/plain": [
              "tensor([[1, 1],\n",
              "        [1, 1]])"
            ]
          },
          "metadata": {},
          "execution_count": 4
        }
      ]
    },
    {
      "cell_type": "markdown",
      "source": [
        "1.4. Tworzymy tensor z wartościami z rozkładu normalnego."
      ],
      "metadata": {
        "id": "YK5cmVGYu3X2"
      }
    },
    {
      "cell_type": "code",
      "source": [
        "x_rand = torch.rand_like(x_data, dtype=torch.float)\n",
        "x_rand"
      ],
      "metadata": {
        "id": "1NmCGvpIAYxg",
        "colab": {
          "base_uri": "https://localhost:8080/"
        },
        "outputId": "ef8b10b3-0fe1-43c1-aadb-aec3fa4331c8"
      },
      "execution_count": null,
      "outputs": [
        {
          "output_type": "execute_result",
          "data": {
            "text/plain": [
              "tensor([[0.3428, 0.6082],\n",
              "        [0.3829, 0.8221]])"
            ]
          },
          "metadata": {},
          "execution_count": 5
        }
      ]
    },
    {
      "cell_type": "markdown",
      "source": [
        "### 2. Atrybuty tensora"
      ],
      "metadata": {
        "id": "eP0cxWSzAjkG"
      }
    },
    {
      "cell_type": "markdown",
      "source": [
        "2.1 Wymiary tensora"
      ],
      "metadata": {
        "id": "djyjT30IAjmq"
      }
    },
    {
      "cell_type": "code",
      "source": [
        "tensor = torch.rand(3,4)\n",
        "tensor.shape"
      ],
      "metadata": {
        "id": "I1t8DqAlAi9z",
        "colab": {
          "base_uri": "https://localhost:8080/"
        },
        "outputId": "6f8812e8-51d2-4ef6-ae08-c6460feb19ed"
      },
      "execution_count": null,
      "outputs": [
        {
          "output_type": "execute_result",
          "data": {
            "text/plain": [
              "torch.Size([3, 4])"
            ]
          },
          "metadata": {},
          "execution_count": 6
        }
      ]
    },
    {
      "cell_type": "markdown",
      "source": [
        "2.2 Typ wartości w tensorze"
      ],
      "metadata": {
        "id": "simtG07QAtRA"
      }
    },
    {
      "cell_type": "code",
      "source": [
        "tensor.dtype"
      ],
      "metadata": {
        "id": "2RoIQ63iAtXe",
        "colab": {
          "base_uri": "https://localhost:8080/"
        },
        "outputId": "91f8d114-f8a6-494f-db81-a5a3d572c623"
      },
      "execution_count": null,
      "outputs": [
        {
          "output_type": "execute_result",
          "data": {
            "text/plain": [
              "torch.float32"
            ]
          },
          "metadata": {},
          "execution_count": 7
        }
      ]
    },
    {
      "cell_type": "markdown",
      "source": [
        "2.3 Czy tensor jest przechowywany na CPU czy na GPU"
      ],
      "metadata": {
        "id": "m5Iaa6btAthT"
      }
    },
    {
      "cell_type": "code",
      "source": [
        "tensor.device"
      ],
      "metadata": {
        "id": "Vms1957QAtnk",
        "colab": {
          "base_uri": "https://localhost:8080/"
        },
        "outputId": "19a48d9a-9cb1-43a4-ec99-617cc5291622"
      },
      "execution_count": null,
      "outputs": [
        {
          "output_type": "execute_result",
          "data": {
            "text/plain": [
              "device(type='cpu')"
            ]
          },
          "metadata": {},
          "execution_count": 8
        }
      ]
    },
    {
      "cell_type": "markdown",
      "source": [
        "### 3. Operacje na tensorach"
      ],
      "metadata": {
        "id": "iT211jKXBBP5"
      }
    },
    {
      "cell_type": "markdown",
      "source": [
        "3.1 Indeksowanie i slice"
      ],
      "metadata": {
        "id": "nl1iTgwRBJDX"
      }
    },
    {
      "cell_type": "code",
      "source": [
        "tensor = torch.rand(4, 4)\n",
        "print(f\"Pierwszy wiersz: {tensor[0]}\")\n",
        "print(f\"Pierwsza kolumna: {tensor[:, 0]}\")\n",
        "print(f\"Ostatnia kolumna: {tensor[..., -1]}\")\n",
        "tensor[:,1] = 0 # Wypełnij kolumnę zerami\n",
        "print(tensor)"
      ],
      "metadata": {
        "id": "vEKubfCwBcf8",
        "colab": {
          "base_uri": "https://localhost:8080/"
        },
        "outputId": "fa68521f-5307-471e-89eb-ba323f1086e1"
      },
      "execution_count": null,
      "outputs": [
        {
          "output_type": "stream",
          "name": "stdout",
          "text": [
            "Pierwszy wiersz: tensor([0.8846, 0.4597, 0.1991, 0.0404])\n",
            "Pierwsza kolumna: tensor([0.8846, 0.8623, 0.7295, 0.4655])\n",
            "Ostatnia kolumna: tensor([0.0404, 0.7309, 0.2564, 0.6018])\n",
            "tensor([[0.8846, 0.0000, 0.1991, 0.0404],\n",
            "        [0.8623, 0.0000, 0.1286, 0.7309],\n",
            "        [0.7295, 0.0000, 0.8501, 0.2564],\n",
            "        [0.4655, 0.0000, 0.5436, 0.6018]])\n"
          ]
        }
      ]
    },
    {
      "cell_type": "markdown",
      "source": [
        "3.2 Łączenie tensorów wzdłuż wybranego wymiaru"
      ],
      "metadata": {
        "id": "rcjveguPBmOd"
      }
    },
    {
      "cell_type": "code",
      "source": [
        "t1 = torch.cat([tensor, tensor, tensor], dim=1)\n",
        "print(t1)"
      ],
      "metadata": {
        "id": "Z4gOhBB0B1-G",
        "colab": {
          "base_uri": "https://localhost:8080/"
        },
        "outputId": "6936876b-434e-4fac-e80f-a1d2fba9a4c8"
      },
      "execution_count": null,
      "outputs": [
        {
          "output_type": "stream",
          "name": "stdout",
          "text": [
            "tensor([[0.8846, 0.0000, 0.1991, 0.0404, 0.8846, 0.0000, 0.1991, 0.0404, 0.8846,\n",
            "         0.0000, 0.1991, 0.0404],\n",
            "        [0.8623, 0.0000, 0.1286, 0.7309, 0.8623, 0.0000, 0.1286, 0.7309, 0.8623,\n",
            "         0.0000, 0.1286, 0.7309],\n",
            "        [0.7295, 0.0000, 0.8501, 0.2564, 0.7295, 0.0000, 0.8501, 0.2564, 0.7295,\n",
            "         0.0000, 0.8501, 0.2564],\n",
            "        [0.4655, 0.0000, 0.5436, 0.6018, 0.4655, 0.0000, 0.5436, 0.6018, 0.4655,\n",
            "         0.0000, 0.5436, 0.6018]])\n"
          ]
        }
      ]
    },
    {
      "cell_type": "markdown",
      "source": [
        "3.3 Mnożenie macierzy. y1, y2, y3 dadzą ten sam wynik."
      ],
      "metadata": {
        "id": "XNHHldCmBlTH"
      }
    },
    {
      "cell_type": "code",
      "source": [
        "y1 = tensor @ tensor.T\n",
        "y2 = tensor.matmul(tensor.T)\n",
        "\n",
        "y3 = torch.rand_like(y1)\n",
        "torch.matmul(tensor, tensor.T, out=y3)"
      ],
      "metadata": {
        "id": "naBbQmM6B6qJ",
        "colab": {
          "base_uri": "https://localhost:8080/"
        },
        "outputId": "3a141d9c-f92d-43ba-e0fd-dba4039a8f59"
      },
      "execution_count": null,
      "outputs": [
        {
          "output_type": "execute_result",
          "data": {
            "text/plain": [
              "tensor([[0.8238, 0.8179, 0.8249, 0.5444],\n",
              "        [0.8179, 1.2943, 0.9257, 0.9111],\n",
              "        [0.8249, 0.9257, 1.3205, 0.9560],\n",
              "        [0.5444, 0.9111, 0.9560, 0.8744]])"
            ]
          },
          "metadata": {},
          "execution_count": 11
        }
      ]
    },
    {
      "cell_type": "markdown",
      "source": [
        "3.4 Mnożenie element razy element. z1, z2, z3 dadzą ten sam wynik"
      ],
      "metadata": {
        "id": "cm6yta9vCVH8"
      }
    },
    {
      "cell_type": "code",
      "source": [
        "z1 = tensor * tensor\n",
        "z2 = tensor.mul(tensor)\n",
        "\n",
        "z3 = torch.rand_like(tensor)\n",
        "torch.mul(tensor, tensor, out=z3)\n"
      ],
      "metadata": {
        "id": "vl5hx4a9CVRf",
        "colab": {
          "base_uri": "https://localhost:8080/"
        },
        "outputId": "cce11ea0-9990-4e51-ab9f-e0970c6dfd92"
      },
      "execution_count": null,
      "outputs": [
        {
          "output_type": "execute_result",
          "data": {
            "text/plain": [
              "tensor([[0.7825, 0.0000, 0.0396, 0.0016],\n",
              "        [0.7436, 0.0000, 0.0165, 0.5342],\n",
              "        [0.5321, 0.0000, 0.7227, 0.0657],\n",
              "        [0.2167, 0.0000, 0.2955, 0.3621]])"
            ]
          },
          "metadata": {},
          "execution_count": 12
        }
      ]
    },
    {
      "cell_type": "markdown",
      "source": [
        "4. Zamiana torch i numpy"
      ],
      "metadata": {
        "id": "v7N3h0QhCq5f"
      }
    },
    {
      "cell_type": "code",
      "source": [
        "t = torch.ones(5)\n",
        "\n",
        "n = t.numpy()"
      ],
      "metadata": {
        "id": "jdUaZSn2Crs0"
      },
      "execution_count": null,
      "outputs": []
    },
    {
      "cell_type": "code",
      "source": [
        "n = np.ones(5)\n",
        "t = torch.from_numpy(n)"
      ],
      "metadata": {
        "id": "lg6X3y9EC10c"
      },
      "execution_count": null,
      "outputs": []
    },
    {
      "cell_type": "markdown",
      "source": [
        "### 5. Zmiana wymiarów tensora"
      ],
      "metadata": {
        "id": "iHon3xYuD5Gc"
      }
    },
    {
      "cell_type": "code",
      "source": [
        "t = torch.rand((5, 2))\n",
        "t.reshape(-1)"
      ],
      "metadata": {
        "id": "5CkCqeSzD5Yn",
        "colab": {
          "base_uri": "https://localhost:8080/"
        },
        "outputId": "e658dc92-f226-482a-821f-260fa3b3cc3f"
      },
      "execution_count": null,
      "outputs": [
        {
          "output_type": "execute_result",
          "data": {
            "text/plain": [
              "tensor([0.4679, 0.0961, 0.0285, 0.9166, 0.9829, 0.6856, 0.3040, 0.9065, 0.7905,\n",
              "        0.9334])"
            ]
          },
          "metadata": {},
          "execution_count": 15
        }
      ]
    },
    {
      "cell_type": "markdown",
      "source": [
        "## Zadania"
      ],
      "metadata": {
        "id": "ucbR4HXzu3b7"
      }
    },
    {
      "cell_type": "markdown",
      "source": [
        "### Zadanie 1\n",
        "Stwórz 4 tensory:\n",
        "\n",
        "$A$ : macierz jedynek 4x7\n",
        "\n",
        "$B$ : macierz o takim samym wymiarze co A, ale wartości macierzy mają pochodzić z rozkładu normalnego\n",
        "\n",
        "$C$ : wektor z liczbami parzystymi od 2 do 20 włącznie\n",
        "\n",
        "$D$ : tensor utworzony na podstawie numpy array Z"
      ],
      "metadata": {
        "id": "_sMmr8Qeu5tc"
      }
    },
    {
      "cell_type": "code",
      "source": [
        "Z = np.vander([1, 2, 3, 5], 4)\n",
        "Z"
      ],
      "metadata": {
        "colab": {
          "base_uri": "https://localhost:8080/"
        },
        "id": "0iNiCVX_jj1C",
        "outputId": "76aed1f4-c6bf-488a-cd9f-01b5910e909d"
      },
      "execution_count": null,
      "outputs": [
        {
          "output_type": "execute_result",
          "data": {
            "text/plain": [
              "array([[  1,   1,   1,   1],\n",
              "       [  8,   4,   2,   1],\n",
              "       [ 27,   9,   3,   1],\n",
              "       [125,  25,   5,   1]])"
            ]
          },
          "metadata": {},
          "execution_count": 2
        }
      ]
    },
    {
      "cell_type": "code",
      "source": [
        "A = np.ones((4, 7))\n",
        "B = np.random.normal(size=(4, 7))\n",
        "C = np.arange(2, 21, 2)\n",
        "D = np.array(Z)"
      ],
      "metadata": {
        "id": "p2Tbtu8cxGqD"
      },
      "execution_count": null,
      "outputs": []
    },
    {
      "cell_type": "markdown",
      "source": [
        "### Zadanie 2\n",
        "Przemnóż macierz B przez C, a następnie dodaj macierz D.\n",
        "$$D = A \\cdot B + C$$"
      ],
      "metadata": {
        "id": "oOQqXIWP3o-z"
      }
    },
    {
      "cell_type": "code",
      "source": [
        "A = torch.tensor([[2, 4], [5, 7]])\n",
        "B = torch.tensor([[1, 1], [2, 3]])\n",
        "C = torch.tensor([[10, 10], [12, 1]])\n",
        "\n",
        "D = torch.matmul(A, B) + C"
      ],
      "metadata": {
        "id": "F4qRT6WM4Sf2"
      },
      "execution_count": null,
      "outputs": []
    },
    {
      "cell_type": "markdown",
      "source": [
        "### Zadanie 3\n",
        "\n",
        "Przemnóż sumę kolumn macierzy A przez sumę wszystkich elementów macierzy B (skalar).\n",
        "$$A = \\begin{bmatrix}\n",
        "1 & 2 \\\\\n",
        "1 & 1\n",
        "\\end{bmatrix} \\\n",
        "B = \\begin{bmatrix}\n",
        "1 & 2 & 3\\\\\n",
        "3 & 2 & 1\n",
        "\\end{bmatrix} \\\n",
        "\\ \\ C = \\begin{bmatrix}\n",
        "2 & 3\\\\\n",
        "\\end{bmatrix} \\cdot 12 =\n",
        "\\begin{bmatrix}\n",
        "24 & 36 \\\\\n",
        "\\end{bmatrix}$$"
      ],
      "metadata": {
        "id": "6AZnd14Q4nrX"
      }
    },
    {
      "cell_type": "code",
      "source": [
        "A = torch.tensor([[1, 2], [1, 1]])\n",
        "B = torch.tensor([[1, 2, 3], [3, 2, 1]])\n",
        "\n",
        "C = torch.sum(A, dim=0) * torch.sum(B)\n",
        "C"
      ],
      "metadata": {
        "colab": {
          "base_uri": "https://localhost:8080/"
        },
        "id": "OMdSHI-W5ytF",
        "outputId": "84801d40-2d83-4d27-eada-9abe7e2180d9"
      },
      "execution_count": null,
      "outputs": [
        {
          "output_type": "execute_result",
          "data": {
            "text/plain": [
              "tensor([24, 36])"
            ]
          },
          "metadata": {},
          "execution_count": 7
        }
      ]
    },
    {
      "cell_type": "markdown",
      "source": [
        "### Zadanie 4\n",
        "Przekształć macierz A tak, żeby drugą kolumnę stanowiła spłaszczona macierz A, a pierwszą kolumnę indeks danego wiersza.\n",
        "\n",
        "$$A = \\begin{bmatrix}\n",
        "5 & -2 \\\\\n",
        "10 & 41\n",
        "\\end{bmatrix}\n",
        "$$\n",
        "\n",
        "$$B = \\begin{bmatrix}\n",
        "0 & 5 \\\\\n",
        "1 & -2 \\\\\n",
        "2 & 10 \\\\\n",
        "3 & 41 \\\\\n",
        "\\end{bmatrix}\n",
        "$$\n"
      ],
      "metadata": {
        "id": "ftmrAPwr7wPI"
      }
    },
    {
      "cell_type": "code",
      "source": [
        "A = torch.tensor([[5, -2], [10, 41]])\n",
        "\n",
        "B = torch.flatten(A)\n",
        "B"
      ],
      "metadata": {
        "colab": {
          "base_uri": "https://localhost:8080/"
        },
        "id": "vhgJiktm7vjj",
        "outputId": "df2e10f2-f030-4b99-b101-171fee4fa1be"
      },
      "execution_count": null,
      "outputs": [
        {
          "output_type": "execute_result",
          "data": {
            "text/plain": [
              "tensor([ 5, -2, 10, 41])"
            ]
          },
          "metadata": {},
          "execution_count": 8
        }
      ]
    },
    {
      "cell_type": "code",
      "source": [
        "A1 = torch.flatten(A[:, :1])\n",
        "A2 = torch.flatten(A[:, 1:2])\n",
        "B = torch.stack((A2, A1), dim=1)\n",
        "B"
      ],
      "metadata": {
        "colab": {
          "base_uri": "https://localhost:8080/"
        },
        "id": "UqoQBcpj2n0y",
        "outputId": "eb4d5e1f-b013-498f-af86-2caec48920d2"
      },
      "execution_count": null,
      "outputs": [
        {
          "output_type": "execute_result",
          "data": {
            "text/plain": [
              "tensor([[-2,  5],\n",
              "        [41, 10]])"
            ]
          },
          "metadata": {},
          "execution_count": 9
        }
      ]
    },
    {
      "cell_type": "markdown",
      "source": [
        "### Zadanie 5\n",
        "O ile szybsze są obliczenia na GPU od CPU?\n",
        "Policz czas obliczeń na CPU i GPU."
      ],
      "metadata": {
        "id": "NUr5Aoh996mD"
      }
    },
    {
      "cell_type": "code",
      "source": [
        "device = 'cpu'\n",
        "\n",
        "start_time = time.time()\n",
        "\n",
        "X = torch.rand(2, 2).to(device)\n",
        "Y = torch.rand_like(X).to(device)\n",
        "\n",
        "Z = 2*torch.ones(2, 2).to(device)\n",
        "\n",
        "A = X * Y\n",
        "B = Y @ Z\n",
        "C = A + B\n",
        "\n",
        "cpu_time = time.time() - start_time\n",
        "print(\"Czas obliczeń na CPU:\", cpu_time)"
      ],
      "metadata": {
        "colab": {
          "base_uri": "https://localhost:8080/"
        },
        "id": "YC9qbOfc9l0U",
        "outputId": "ad6a2591-4b28-4b80-95c4-c89b97a097c9"
      },
      "execution_count": null,
      "outputs": [
        {
          "output_type": "stream",
          "name": "stdout",
          "text": [
            "Czas obliczeń na CPU: 0.0027892589569091797\n"
          ]
        }
      ]
    },
    {
      "cell_type": "code",
      "source": [
        "device = 'cuda'\n",
        "\n",
        "start_time = time.time()\n",
        "\n",
        "X = torch.rand(2, 2).to(device)\n",
        "Y = torch.rand_like(X).to(device)\n",
        "\n",
        "Z = 2*torch.ones(2, 2).to(device)\n",
        "\n",
        "A = X * Y\n",
        "B = Y @ Z\n",
        "C = A + B\n",
        "\n",
        "gpu_time = time.time() - start_time\n",
        "print(\"Czas obliczeń na GPU:\", gpu_time)"
      ],
      "metadata": {
        "id": "BkD_TZqG-3e1"
      },
      "execution_count": null,
      "outputs": []
    },
    {
      "cell_type": "code",
      "source": [
        "print(\"Przyspieszenie GPU w porównaniu z CPU:\", cpu_time / gpu_time, \"razy\")"
      ],
      "metadata": {
        "id": "4FrpQ8Zj_SK-"
      },
      "execution_count": null,
      "outputs": []
    }
  ]
}