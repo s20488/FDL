{
  "nbformat": 4,
  "nbformat_minor": 0,
  "metadata": {
    "colab": {
      "provenance": []
    },
    "kernelspec": {
      "name": "python3",
      "display_name": "Python 3"
    },
    "language_info": {
      "name": "python"
    }
  },
  "cells": [
    {
      "cell_type": "markdown",
      "source": [
        "# Zbiór danych"
      ],
      "metadata": {
        "id": "x8f3YSGVx6ro"
      }
    },
    {
      "cell_type": "markdown",
      "source": [
        "## Niestandardowy zbiór danych w pytorchu"
      ],
      "metadata": {
        "id": "cAYb_5qj0cJ-"
      }
    },
    {
      "cell_type": "markdown",
      "source": [
        "Zakładając że mamy nasze dane w formacie numpy, stworzymy niestandaradowy obiekt pytorch dataset który będzie wczytywał te dane"
      ],
      "metadata": {
        "id": "OvpFQqU30ysK"
      }
    },
    {
      "cell_type": "markdown",
      "source": [
        "### Pobranie danych"
      ],
      "metadata": {
        "id": "xAUwaOsZ0rf-"
      }
    },
    {
      "cell_type": "markdown",
      "source": [
        "https://scikit-learn.org/stable/modules/generated/sklearn.datasets.load_digits.html#sklearn.datasets.load_digits"
      ],
      "metadata": {
        "id": "bzgLDQBU3zI_"
      }
    },
    {
      "cell_type": "code",
      "source": [
        "from sklearn.datasets import load_digits"
      ],
      "metadata": {
        "id": "4ciDHsvQ0rL0"
      },
      "execution_count": null,
      "outputs": []
    },
    {
      "cell_type": "code",
      "source": [
        "data = load_digits().data"
      ],
      "metadata": {
        "id": "jS5W5_A60pWj"
      },
      "execution_count": null,
      "outputs": []
    },
    {
      "cell_type": "code",
      "source": [
        "data.shape"
      ],
      "metadata": {
        "colab": {
          "base_uri": "https://localhost:8080/"
        },
        "id": "_yB_vY2E1iFJ",
        "outputId": "c5608f2d-4f18-4d47-d4f3-b525d162e528"
      },
      "execution_count": null,
      "outputs": [
        {
          "output_type": "execute_result",
          "data": {
            "text/plain": [
              "(1797, 64)"
            ]
          },
          "metadata": {},
          "execution_count": 3
        }
      ]
    },
    {
      "cell_type": "code",
      "source": [
        "data[0]"
      ],
      "metadata": {
        "colab": {
          "base_uri": "https://localhost:8080/"
        },
        "id": "xFQSZeu83aQJ",
        "outputId": "c409df47-811c-4d98-e950-5b5571a6503e"
      },
      "execution_count": null,
      "outputs": [
        {
          "output_type": "execute_result",
          "data": {
            "text/plain": [
              "array([ 0.,  0.,  5., 13.,  9.,  1.,  0.,  0.,  0.,  0., 13., 15., 10.,\n",
              "       15.,  5.,  0.,  0.,  3., 15.,  2.,  0., 11.,  8.,  0.,  0.,  4.,\n",
              "       12.,  0.,  0.,  8.,  8.,  0.,  0.,  5.,  8.,  0.,  0.,  9.,  8.,\n",
              "        0.,  0.,  4., 11.,  0.,  1., 12.,  7.,  0.,  0.,  2., 14.,  5.,\n",
              "       10., 12.,  0.,  0.,  0.,  0.,  6., 13., 10.,  0.,  0.,  0.])"
            ]
          },
          "metadata": {},
          "execution_count": 5
        }
      ]
    },
    {
      "cell_type": "code",
      "source": [
        "targets = load_digits().target"
      ],
      "metadata": {
        "id": "CDActnaW1i_v"
      },
      "execution_count": null,
      "outputs": []
    },
    {
      "cell_type": "code",
      "source": [
        "targets.shape"
      ],
      "metadata": {
        "colab": {
          "base_uri": "https://localhost:8080/"
        },
        "id": "wV8Ybx3C3Wc-",
        "outputId": "236c35ea-f186-48fe-aa7c-5b96316ff583"
      },
      "execution_count": null,
      "outputs": [
        {
          "output_type": "execute_result",
          "data": {
            "text/plain": [
              "(1797,)"
            ]
          },
          "metadata": {},
          "execution_count": 7
        }
      ]
    },
    {
      "cell_type": "code",
      "source": [
        "targets[0]"
      ],
      "metadata": {
        "colab": {
          "base_uri": "https://localhost:8080/"
        },
        "id": "aUJ-W-9p3X2u",
        "outputId": "7c6abffa-c364-46cb-ba91-eae06c997868"
      },
      "execution_count": null,
      "outputs": [
        {
          "output_type": "execute_result",
          "data": {
            "text/plain": [
              "0"
            ]
          },
          "metadata": {},
          "execution_count": 8
        }
      ]
    },
    {
      "cell_type": "markdown",
      "source": [
        "### Podział danych na treningowe i testowe"
      ],
      "metadata": {
        "id": "QK4z0xjP33nl"
      }
    },
    {
      "cell_type": "markdown",
      "source": [
        "Do podziały danych na zbiór treningowy i testowy możemy użyć funkcji `train_test_split()` z biblioteki sklearn.\n",
        "\n",
        "Parametrs `stratify` zapewnie taki sam rozkład danych w  zbiorze treningowym i testowym, w naszym przypadku chcemy aby rozkład klas był taki sam w obu zbiorach więc podajemy `stratify = traget` co zapeni równy rozkład danych względem zmiennej celu\n"
      ],
      "metadata": {
        "id": "aYMT5_QP4yvP"
      }
    },
    {
      "cell_type": "code",
      "source": [
        "from sklearn.model_selection import train_test_split"
      ],
      "metadata": {
        "id": "-BdWsS3a323d"
      },
      "execution_count": null,
      "outputs": []
    },
    {
      "cell_type": "code",
      "source": [
        "train_data, test_data, train_targets, test_targets = train_test_split(data, # X\n",
        "                                                                    targets, # y\n",
        "                                                                    train_size = 0.8, # cześć danych którą chcemy przeznaczyć na zbiór treningowy\n",
        "                                                                    stratify = targets # dane według których robimy stratyfikacje\n",
        "                                                                    )"
      ],
      "metadata": {
        "id": "Lb89c9443mVO"
      },
      "execution_count": null,
      "outputs": []
    },
    {
      "cell_type": "code",
      "source": [
        "train_data.shape"
      ],
      "metadata": {
        "colab": {
          "base_uri": "https://localhost:8080/"
        },
        "id": "oFqDdN2H4bFi",
        "outputId": "41a7f627-0831-44b6-b84b-52251043a1ca"
      },
      "execution_count": null,
      "outputs": [
        {
          "output_type": "execute_result",
          "data": {
            "text/plain": [
              "(1437, 64)"
            ]
          },
          "metadata": {},
          "execution_count": 11
        }
      ]
    },
    {
      "cell_type": "code",
      "source": [
        "test_data.shape"
      ],
      "metadata": {
        "colab": {
          "base_uri": "https://localhost:8080/"
        },
        "id": "PptBmX3C4cHU",
        "outputId": "b7b1d860-72a8-4252-ad05-73c9b3bf4796"
      },
      "execution_count": null,
      "outputs": [
        {
          "output_type": "execute_result",
          "data": {
            "text/plain": [
              "(360, 64)"
            ]
          },
          "metadata": {},
          "execution_count": 12
        }
      ]
    },
    {
      "cell_type": "markdown",
      "source": [
        "### Klasa `Dataset`"
      ],
      "metadata": {
        "id": "pjRgE6uF50bP"
      }
    },
    {
      "cell_type": "markdown",
      "source": [
        "Aby stowrzyć niestandardowy dataset w pytrochu musimy utworzyć klasę tego datasetu dziedziczącą po klasie Dataset.\n",
        "\n",
        "Nasza kalsa musi mieć zaimplementowane conajmiej 3 metody:\n",
        "\n",
        "`__init__(self, *args, **kwargs)`:\n",
        "* funkcja wywoływana przy inicjalizacji obiektu, w niej powinniśmy przypisać wszystkie datane używane w datasecie **Uwaga** - najlepiej żeby wszyskie dane były w formacie numpy inaczej dataset może mieć problem z wielowątkowością\n",
        "\n",
        "`__len__(self):`\n",
        "* funcja która zwraca rozmiar naszego datasetu\n",
        "\n",
        "`__getitem__(self, idx)`:\n",
        "* funkcja która zwraca konkretny element z datasetu i indeksie `idx`\n"
      ],
      "metadata": {
        "id": "QiOI_vem6dt_"
      }
    },
    {
      "cell_type": "code",
      "source": [
        "from torch.utils.data import Dataset"
      ],
      "metadata": {
        "id": "nG06ndNu4f5Y"
      },
      "execution_count": null,
      "outputs": []
    },
    {
      "cell_type": "code",
      "source": [
        "class DigitsDataset(Dataset):\n",
        "  def __init__(self, data, targets):\n",
        "    self.data = data\n",
        "    self.targets = targets\n",
        "\n",
        "  def __len__(self):\n",
        "    return len(self.data)\n",
        "\n",
        "  def __getitem__(self,idx):\n",
        "    x = self.data[idx]/16\n",
        "    y = self.targets[idx]\n",
        "\n",
        "    return x, y\n"
      ],
      "metadata": {
        "id": "QeaoVcB56Cv9"
      },
      "execution_count": null,
      "outputs": []
    },
    {
      "cell_type": "markdown",
      "source": [
        "Inicjalizacja datasetów"
      ],
      "metadata": {
        "id": "W0CadI8Y-FoQ"
      }
    },
    {
      "cell_type": "code",
      "source": [
        "train_dataset = DigitsDataset(train_data, train_targets)"
      ],
      "metadata": {
        "id": "aDWK-B5Q7_cv"
      },
      "execution_count": null,
      "outputs": []
    },
    {
      "cell_type": "code",
      "source": [
        "test_dataset = DigitsDataset(test_data, test_targets)"
      ],
      "metadata": {
        "id": "a-sybnAV8H7s"
      },
      "execution_count": null,
      "outputs": []
    },
    {
      "cell_type": "markdown",
      "source": [],
      "metadata": {
        "id": "tke-LMcp-JTQ"
      }
    },
    {
      "cell_type": "code",
      "source": [
        "single_item =  test_dataset[0]"
      ],
      "metadata": {
        "id": "GtKAdpVJ8NIj"
      },
      "execution_count": null,
      "outputs": []
    },
    {
      "cell_type": "markdown",
      "source": [
        "x"
      ],
      "metadata": {
        "id": "MAGU8r5UAGUc"
      }
    },
    {
      "cell_type": "code",
      "source": [
        "single_item[0]"
      ],
      "metadata": {
        "colab": {
          "base_uri": "https://localhost:8080/"
        },
        "id": "JwcCeHj58TYw",
        "outputId": "56bce74d-7c66-4da7-fcb7-9bef0c843c8e"
      },
      "execution_count": null,
      "outputs": [
        {
          "output_type": "execute_result",
          "data": {
            "text/plain": [
              "array([0.    , 0.    , 0.1875, 0.5   , 0.6875, 0.6875, 0.0625, 0.    ,\n",
              "       0.    , 0.    , 0.1875, 1.    , 1.    , 0.75  , 0.    , 0.    ,\n",
              "       0.    , 0.    , 0.125 , 0.9375, 1.    , 0.75  , 0.    , 0.    ,\n",
              "       0.    , 0.    , 0.    , 1.    , 1.    , 0.4375, 0.    , 0.    ,\n",
              "       0.    , 0.    , 0.0625, 0.9375, 1.    , 0.625 , 0.    , 0.    ,\n",
              "       0.    , 0.    , 0.0625, 1.    , 1.    , 0.375 , 0.    , 0.    ,\n",
              "       0.    , 0.    , 0.1875, 1.    , 1.    , 0.3125, 0.    , 0.    ,\n",
              "       0.    , 0.    , 0.125 , 0.9375, 1.    , 0.375 , 0.    , 0.    ])"
            ]
          },
          "metadata": {},
          "execution_count": 18
        }
      ]
    },
    {
      "cell_type": "markdown",
      "source": [
        "y"
      ],
      "metadata": {
        "id": "xLsSWVcxAOTD"
      }
    },
    {
      "cell_type": "code",
      "source": [
        "single_item[1]"
      ],
      "metadata": {
        "colab": {
          "base_uri": "https://localhost:8080/"
        },
        "id": "0WOuQsmYAPMn",
        "outputId": "a80e5135-a8bb-4526-fe37-784acfea6d58"
      },
      "execution_count": null,
      "outputs": [
        {
          "output_type": "execute_result",
          "data": {
            "text/plain": [
              "1"
            ]
          },
          "metadata": {},
          "execution_count": 19
        }
      ]
    },
    {
      "cell_type": "markdown",
      "source": [
        "## Dataloader"
      ],
      "metadata": {
        "id": "xEyr83SL-eM0"
      }
    },
    {
      "cell_type": "markdown",
      "source": [
        "`Dataloader` jest podiewdzialny za wczytywanie danych z datasetu - dzielenia ich na paczki (batch) które są przetwarzanie jednoczeście, wczytywanie ich w określonej kolejności itd."
      ],
      "metadata": {
        "id": "8NVFDLlr-gtg"
      }
    },
    {
      "cell_type": "code",
      "source": [
        "from torch.utils.data import DataLoader"
      ],
      "metadata": {
        "id": "jRI67uWp-gHo"
      },
      "execution_count": null,
      "outputs": []
    },
    {
      "cell_type": "code",
      "source": [
        "train_dataloader = DataLoader(train_dataset, batch_size = 32, shuffle = True)"
      ],
      "metadata": {
        "id": "omUlNkho9CFQ"
      },
      "execution_count": null,
      "outputs": []
    },
    {
      "cell_type": "code",
      "source": [
        "test_dataloader = DataLoader(test_dataset, batch_size  = 32, shuffle = False)"
      ],
      "metadata": {
        "id": "7sctrjRl_D8X"
      },
      "execution_count": null,
      "outputs": []
    },
    {
      "cell_type": "markdown",
      "source": [
        "Wczytanie pojedyńczego batcha"
      ],
      "metadata": {
        "id": "r998XaT__szN"
      }
    },
    {
      "cell_type": "code",
      "source": [
        "single_batch = next(iter(test_dataloader))"
      ],
      "metadata": {
        "id": "sXvm3Gjl_Tlr"
      },
      "execution_count": null,
      "outputs": []
    },
    {
      "cell_type": "markdown",
      "source": [
        "x"
      ],
      "metadata": {
        "id": "RXye9TK8__Zu"
      }
    },
    {
      "cell_type": "code",
      "source": [
        "single_batch[0].shape"
      ],
      "metadata": {
        "colab": {
          "base_uri": "https://localhost:8080/"
        },
        "id": "Qa_AEb5D_Xfo",
        "outputId": "1ff6574f-49ec-4896-89dc-e99bda07d14d"
      },
      "execution_count": null,
      "outputs": [
        {
          "output_type": "execute_result",
          "data": {
            "text/plain": [
              "torch.Size([32, 64])"
            ]
          },
          "metadata": {},
          "execution_count": 24
        }
      ]
    },
    {
      "cell_type": "code",
      "source": [
        "single_batch[0].max()"
      ],
      "metadata": {
        "colab": {
          "base_uri": "https://localhost:8080/"
        },
        "id": "CPe2cWEmJRbS",
        "outputId": "2dbe13a1-82bb-4067-a7b0-20351b6b61f6"
      },
      "execution_count": null,
      "outputs": [
        {
          "output_type": "execute_result",
          "data": {
            "text/plain": [
              "tensor(1., dtype=torch.float64)"
            ]
          },
          "metadata": {},
          "execution_count": 25
        }
      ]
    },
    {
      "cell_type": "markdown",
      "source": [
        "y"
      ],
      "metadata": {
        "id": "a6OA8JCDAANz"
      }
    },
    {
      "cell_type": "code",
      "source": [
        "single_batch[1].shape"
      ],
      "metadata": {
        "colab": {
          "base_uri": "https://localhost:8080/"
        },
        "id": "1f68wCvV_5R8",
        "outputId": "80acdc46-31cf-4280-da30-74d05a9c6f3c"
      },
      "execution_count": null,
      "outputs": [
        {
          "output_type": "execute_result",
          "data": {
            "text/plain": [
              "torch.Size([32])"
            ]
          },
          "metadata": {},
          "execution_count": 26
        }
      ]
    },
    {
      "cell_type": "markdown",
      "source": [
        "# Sieć neuronowa"
      ],
      "metadata": {
        "id": "DyqodzIlAebT"
      }
    },
    {
      "cell_type": "markdown",
      "source": [
        "## Warsty w pytorchu\n",
        "\n",
        "Postawowe warstwy dostępne w pytorchu możemy znaleść w `torch.nn`\n",
        "\n",
        "Warstwa fully connected : `nn.Linear(in_features, out_features)`\n",
        "* in_features - rozmiar inputu warstwy\n",
        "* out_features - rozmiar outputu warsty\n",
        "* *Przypomienie: wagi w warswie to macierz (out_features, in_features)*"
      ],
      "metadata": {
        "id": "OqVKXSdgBiK7"
      }
    },
    {
      "cell_type": "code",
      "source": [
        "from torch import nn"
      ],
      "metadata": {
        "id": "eVMyVkGVEyUG"
      },
      "execution_count": null,
      "outputs": []
    },
    {
      "cell_type": "code",
      "source": [
        "fc = nn.Linear(10,20)"
      ],
      "metadata": {
        "id": "IEvZ2RfZDVNo"
      },
      "execution_count": null,
      "outputs": []
    },
    {
      "cell_type": "code",
      "source": [
        "fc"
      ],
      "metadata": {
        "colab": {
          "base_uri": "https://localhost:8080/"
        },
        "id": "jtIge_EJDcPM",
        "outputId": "0ad82d48-d017-4263-cd4d-7eba39f14235"
      },
      "execution_count": null,
      "outputs": [
        {
          "output_type": "execute_result",
          "data": {
            "text/plain": [
              "Linear(in_features=10, out_features=20, bias=True)"
            ]
          },
          "metadata": {},
          "execution_count": 29
        }
      ]
    },
    {
      "cell_type": "markdown",
      "source": [
        "Na początku wagi są losowe"
      ],
      "metadata": {
        "id": "L5yQrMNbDvCS"
      }
    },
    {
      "cell_type": "code",
      "source": [
        "fc.weight"
      ],
      "metadata": {
        "colab": {
          "base_uri": "https://localhost:8080/"
        },
        "id": "dvU3EmoxDeoA",
        "outputId": "cbebb6af-9b68-495a-cd62-c27953697ce4"
      },
      "execution_count": null,
      "outputs": [
        {
          "output_type": "execute_result",
          "data": {
            "text/plain": [
              "Parameter containing:\n",
              "tensor([[ 0.1398, -0.0514,  0.2011,  0.1314, -0.0848,  0.2049,  0.1839,  0.1968,\n",
              "          0.1566, -0.2067],\n",
              "        [ 0.0752, -0.0343,  0.1289,  0.1007, -0.2857, -0.3008, -0.3083, -0.2215,\n",
              "          0.0375, -0.1452],\n",
              "        [ 0.0080,  0.1400, -0.2615, -0.1307, -0.2812, -0.2015, -0.1892, -0.0938,\n",
              "          0.1482,  0.1900],\n",
              "        [-0.2705, -0.2064, -0.2946, -0.0136, -0.1918, -0.2502,  0.1915, -0.0381,\n",
              "         -0.1822,  0.1204],\n",
              "        [ 0.1501,  0.0034,  0.2133,  0.2295,  0.1062,  0.1396,  0.1197, -0.0951,\n",
              "         -0.0885, -0.1080],\n",
              "        [-0.0863, -0.1228,  0.1305,  0.1781,  0.0020,  0.0913,  0.1370, -0.2568,\n",
              "          0.2314,  0.1465],\n",
              "        [ 0.0825, -0.0892,  0.2579,  0.1013, -0.2274, -0.1461,  0.0509,  0.2408,\n",
              "         -0.1753, -0.2798],\n",
              "        [ 0.2586, -0.2380,  0.1515, -0.0184,  0.2930,  0.0832, -0.0728, -0.2953,\n",
              "          0.2620,  0.1674],\n",
              "        [ 0.2547,  0.1471, -0.2072,  0.0425,  0.0465,  0.1266,  0.0639,  0.1853,\n",
              "          0.0463, -0.1660],\n",
              "        [ 0.0074, -0.1076,  0.1563, -0.1795, -0.0196, -0.0357,  0.0984, -0.1548,\n",
              "          0.3152, -0.2403],\n",
              "        [-0.1337, -0.0257,  0.0169,  0.0912,  0.1780, -0.0932, -0.1501, -0.0715,\n",
              "         -0.0123, -0.1635],\n",
              "        [-0.2732,  0.0680,  0.1996, -0.1757,  0.2425, -0.1236,  0.1720, -0.0854,\n",
              "         -0.2558,  0.0865],\n",
              "        [-0.0484, -0.2478,  0.2716, -0.2256, -0.0504, -0.2026, -0.2556, -0.0595,\n",
              "          0.2092, -0.0867],\n",
              "        [ 0.3036, -0.2981,  0.3000,  0.1929, -0.3072,  0.2552,  0.0856,  0.2390,\n",
              "          0.1693,  0.2653],\n",
              "        [ 0.1693,  0.2367, -0.0823, -0.2053, -0.0342, -0.2979, -0.2409, -0.0663,\n",
              "          0.2405, -0.0726],\n",
              "        [ 0.2900,  0.0650, -0.0106,  0.0190,  0.1870, -0.1282, -0.0927,  0.0651,\n",
              "         -0.1422, -0.2654],\n",
              "        [-0.0058, -0.2153, -0.0823, -0.0531, -0.3023,  0.2078, -0.0668,  0.1010,\n",
              "          0.1081,  0.2674],\n",
              "        [-0.2367, -0.1016, -0.2093, -0.1149, -0.2408, -0.1598,  0.0174, -0.0724,\n",
              "         -0.2711, -0.1883],\n",
              "        [ 0.2993, -0.2314, -0.0020, -0.2472, -0.0882, -0.2493, -0.0188, -0.1671,\n",
              "         -0.2432, -0.0144],\n",
              "        [ 0.2076, -0.0902,  0.0497,  0.1579, -0.1249,  0.1276, -0.2530,  0.2646,\n",
              "         -0.2279, -0.0460]], requires_grad=True)"
            ]
          },
          "metadata": {},
          "execution_count": 30
        }
      ]
    },
    {
      "cell_type": "code",
      "source": [
        "fc.weight.shape"
      ],
      "metadata": {
        "colab": {
          "base_uri": "https://localhost:8080/"
        },
        "id": "m21Cmwl3DqdD",
        "outputId": "df8cec5a-65fd-46a8-af2a-8cc959eb5d1f"
      },
      "execution_count": null,
      "outputs": [
        {
          "output_type": "execute_result",
          "data": {
            "text/plain": [
              "torch.Size([20, 10])"
            ]
          },
          "metadata": {},
          "execution_count": 31
        }
      ]
    },
    {
      "cell_type": "markdown",
      "source": [
        "## Funkcje aktywacji w pytorchu\n",
        "\n",
        "Podstawowe fukncje aktywacji dostępne są w torch.nn.functional"
      ],
      "metadata": {
        "id": "SeeC-WuSEkKY"
      }
    },
    {
      "cell_type": "code",
      "source": [
        "import torch.nn.functional as F"
      ],
      "metadata": {
        "id": "9ThrFI2hE03G"
      },
      "execution_count": null,
      "outputs": []
    },
    {
      "cell_type": "code",
      "source": [
        "from torch import Tensor"
      ],
      "metadata": {
        "id": "arDTkn7SFEwk"
      },
      "execution_count": null,
      "outputs": []
    },
    {
      "cell_type": "code",
      "source": [
        "F.softmax(Tensor([1,2,3]), dim=0)"
      ],
      "metadata": {
        "colab": {
          "base_uri": "https://localhost:8080/"
        },
        "id": "D3MeoA-6E5ZO",
        "outputId": "b1047f67-7bac-4107-cf2b-a41f9623d0bf"
      },
      "execution_count": null,
      "outputs": [
        {
          "output_type": "execute_result",
          "data": {
            "text/plain": [
              "tensor([0.0900, 0.2447, 0.6652])"
            ]
          },
          "metadata": {},
          "execution_count": 34
        }
      ]
    },
    {
      "cell_type": "markdown",
      "source": [
        "## Sieć neuronowa\n",
        "\n",
        "Aby stowrzyć sieć neuronową w pytorchu musimy stworzyć klasę dziedziczącą po klasie `torch.nn.Module`\n",
        "\n",
        "Nasza klasa musi mieć zaimplementowane conajmniej 2 funkcje:\n",
        "\n",
        "`__init__(self, *args, **kwargs)`\n",
        "* inicjalizuje wszyskie parametry sieci (np. warstwy)\n",
        "\n",
        "`forward(self, x)`\n",
        "* implementuje logikę przekazywania danych w przód sieci neuronowej"
      ],
      "metadata": {
        "id": "ipF7mMaxAkzp"
      }
    },
    {
      "cell_type": "code",
      "source": [
        "class Model(nn.Module):\n",
        "  def __init__(self, input_size, num_classes):\n",
        "    super(Model, self).__init__()\n",
        "    self.fc1 = nn.Linear(input_size, 100) # tworzymy pierwszą warstwę\n",
        "    self.fc2 = nn.Linear(100, num_classes)  # tworzymy drugą warstwę\n",
        "\n",
        "  def forward(self, x):\n",
        "    out = self.fc1(x) # input x przechodzi przez pierwszą warstwę\n",
        "    out = F.relu(out) # stosujemy funkcje aktywacji do pierwszej warsty\n",
        "    out = self.fc2(out) # output pierwszej warsty przechodzi przez drugą warstę\n",
        "    if not self.training:\n",
        "      out = F.softmax(out, dim=1) # jeśli sieć nie jest w trybie trenowania to output drugiej warstwy przechodzi przez funkcje aktywacji softmax\n",
        "    return out"
      ],
      "metadata": {
        "id": "BMbrftI7AjZX"
      },
      "execution_count": null,
      "outputs": []
    },
    {
      "cell_type": "code",
      "source": [
        "model = Model(64,10)"
      ],
      "metadata": {
        "id": "SlOI0o_kBxbL"
      },
      "execution_count": null,
      "outputs": []
    },
    {
      "cell_type": "markdown",
      "source": [
        "# Trening"
      ],
      "metadata": {
        "id": "zgKzbotW-GZe"
      }
    },
    {
      "cell_type": "markdown",
      "source": [
        "## Funkcje błędu"
      ],
      "metadata": {
        "id": "BCKvPP0C-OpY"
      }
    },
    {
      "cell_type": "markdown",
      "source": [
        "Funkcje błędu dostępne są w module `torch.nn`"
      ],
      "metadata": {
        "id": "uCxXHsJr-Q2-"
      }
    },
    {
      "cell_type": "markdown",
      "source": [
        "Przykład"
      ],
      "metadata": {
        "id": "nmD471cJ-W5I"
      }
    },
    {
      "cell_type": "code",
      "source": [
        "ce_loss = nn.CrossEntropyLoss() # klasyfikacja\n",
        "mse_loss = nn.MSELoss() # regresja"
      ],
      "metadata": {
        "id": "-rOA8lGwFjLm"
      },
      "execution_count": null,
      "outputs": []
    },
    {
      "cell_type": "markdown",
      "source": [
        "Funkcja będu zawsze zwraca skalar"
      ],
      "metadata": {
        "id": "Ke-_05noATBk"
      }
    },
    {
      "cell_type": "code",
      "source": [
        "ce_loss(Tensor([[0.1,0.1,0.8]]), Tensor([[0,0,1]]))"
      ],
      "metadata": {
        "colab": {
          "base_uri": "https://localhost:8080/"
        },
        "id": "GcCTdJCs_92z",
        "outputId": "84876859-ea69-499d-ab75-ba5cb4dd824c"
      },
      "execution_count": null,
      "outputs": [
        {
          "output_type": "execute_result",
          "data": {
            "text/plain": [
              "tensor(0.6897)"
            ]
          },
          "metadata": {},
          "execution_count": 38
        }
      ]
    },
    {
      "cell_type": "code",
      "source": [
        "mse_loss(Tensor([[0.1,0.1,0.8]]), Tensor([[0,0,1]]))"
      ],
      "metadata": {
        "colab": {
          "base_uri": "https://localhost:8080/"
        },
        "id": "RfQoOPWWABMx",
        "outputId": "6d2f627f-c5fe-43ae-da51-8336c760eb52"
      },
      "execution_count": null,
      "outputs": [
        {
          "output_type": "execute_result",
          "data": {
            "text/plain": [
              "tensor(0.0200)"
            ]
          },
          "metadata": {},
          "execution_count": 39
        }
      ]
    },
    {
      "cell_type": "markdown",
      "source": [
        "Aby policzyć gradienty za pomoca funkcji błędu wywołujemy `loss.backward()`"
      ],
      "metadata": {
        "id": "MW82ipbICscW"
      }
    },
    {
      "cell_type": "code",
      "source": [
        "import torch"
      ],
      "metadata": {
        "id": "eDs0gx8XDTy2"
      },
      "execution_count": null,
      "outputs": []
    },
    {
      "cell_type": "code",
      "source": [
        "x = torch.zeros((1,3), dtype=torch.float32, requires_grad=True)\n",
        "y = torch.ones((1,3), dtype= torch.float32, requires_grad=True)"
      ],
      "metadata": {
        "id": "eXWvoP2nCyne"
      },
      "execution_count": null,
      "outputs": []
    },
    {
      "cell_type": "code",
      "source": [
        "x"
      ],
      "metadata": {
        "colab": {
          "base_uri": "https://localhost:8080/"
        },
        "id": "SF11UL0wDWUI",
        "outputId": "f7232a76-a943-4556-ae50-877462875cc1"
      },
      "execution_count": null,
      "outputs": [
        {
          "output_type": "execute_result",
          "data": {
            "text/plain": [
              "tensor([[0., 0., 0.]], requires_grad=True)"
            ]
          },
          "metadata": {},
          "execution_count": 42
        }
      ]
    },
    {
      "cell_type": "code",
      "source": [
        "y"
      ],
      "metadata": {
        "colab": {
          "base_uri": "https://localhost:8080/"
        },
        "id": "NQjap1MpDg1S",
        "outputId": "a2a76df0-c569-4818-dc2d-766d216963b6"
      },
      "execution_count": null,
      "outputs": [
        {
          "output_type": "execute_result",
          "data": {
            "text/plain": [
              "tensor([[1., 1., 1.]], requires_grad=True)"
            ]
          },
          "metadata": {},
          "execution_count": 43
        }
      ]
    },
    {
      "cell_type": "code",
      "source": [
        "loss =  ce_loss(x,y)"
      ],
      "metadata": {
        "id": "J5EZ33G_DiKs"
      },
      "execution_count": null,
      "outputs": []
    },
    {
      "cell_type": "code",
      "source": [
        "loss"
      ],
      "metadata": {
        "colab": {
          "base_uri": "https://localhost:8080/"
        },
        "id": "7GmwV90ZEFJZ",
        "outputId": "2a103f03-18ee-4bce-e752-78f9d7039d87"
      },
      "execution_count": null,
      "outputs": [
        {
          "output_type": "execute_result",
          "data": {
            "text/plain": [
              "tensor(3.2958, grad_fn=<DivBackward1>)"
            ]
          },
          "metadata": {},
          "execution_count": 45
        }
      ]
    },
    {
      "cell_type": "code",
      "source": [
        "loss.backward()"
      ],
      "metadata": {
        "id": "5cwxeV0KEGw0"
      },
      "execution_count": null,
      "outputs": []
    },
    {
      "cell_type": "code",
      "source": [
        "x.grad"
      ],
      "metadata": {
        "colab": {
          "base_uri": "https://localhost:8080/"
        },
        "id": "dqCYyaC7EJci",
        "outputId": "a1f7d663-a8bc-4ee9-9a9a-a70b26ca8abc"
      },
      "execution_count": null,
      "outputs": [
        {
          "output_type": "execute_result",
          "data": {
            "text/plain": [
              "tensor([[-5.9605e-08, -5.9605e-08, -5.9605e-08]])"
            ]
          },
          "metadata": {},
          "execution_count": 47
        }
      ]
    },
    {
      "cell_type": "markdown",
      "source": [
        "Uwaga! Funkcja błęd `CrossEntropyLoss()` w pytorchu ma już zaimplementowany softmax dlatego podczas treningu nie robimy softmaxu na ostatniej warstwie"
      ],
      "metadata": {
        "id": "SdaRbWIS_hyU"
      }
    },
    {
      "cell_type": "markdown",
      "source": [
        "Więcej funkcji błedu https://neptune.ai/blog/pytorch-loss-functions"
      ],
      "metadata": {
        "id": "RoAvB2OyADMW"
      }
    },
    {
      "cell_type": "markdown",
      "source": [
        "## Optymalizatory"
      ],
      "metadata": {
        "id": "Bmu9AyOX_Xmn"
      }
    },
    {
      "cell_type": "markdown",
      "source": [
        "Optymalizatory dostepne sa w module `torch.optim`"
      ],
      "metadata": {
        "id": "XezI_xwvBNkW"
      }
    },
    {
      "cell_type": "code",
      "source": [
        "from torch import optim"
      ],
      "metadata": {
        "id": "84bh3rhZ-xry"
      },
      "execution_count": null,
      "outputs": []
    },
    {
      "cell_type": "markdown",
      "source": [
        "Optymalizatory przy inicjalizacji przyjmują jako argument parametrestry sieci neuronowej (`model.parameters()`). Parametry te będą aktualizowane przez optymalizator podczas treningu"
      ],
      "metadata": {
        "id": "CRQ4JevkBhAu"
      }
    },
    {
      "cell_type": "markdown",
      "source": [
        "Przykład"
      ],
      "metadata": {
        "id": "1HI5-jRcBarL"
      }
    },
    {
      "cell_type": "code",
      "source": [
        "model.parameters"
      ],
      "metadata": {
        "colab": {
          "base_uri": "https://localhost:8080/"
        },
        "id": "XcY2OcRcFf0j",
        "outputId": "6ddaa096-5f08-4357-e13c-cb2b362fe389"
      },
      "execution_count": null,
      "outputs": [
        {
          "output_type": "execute_result",
          "data": {
            "text/plain": [
              "<bound method Module.parameters of Model(\n",
              "  (fc1): Linear(in_features=64, out_features=100, bias=True)\n",
              "  (fc2): Linear(in_features=100, out_features=10, bias=True)\n",
              ")>"
            ]
          },
          "metadata": {},
          "execution_count": 49
        }
      ]
    },
    {
      "cell_type": "code",
      "source": [
        "adam = optim.Adam(model.parameters())"
      ],
      "metadata": {
        "id": "48Irkd68BZdR"
      },
      "execution_count": null,
      "outputs": []
    },
    {
      "cell_type": "markdown",
      "source": [
        "### Użycie optymalizatora do aktualiza wag"
      ],
      "metadata": {
        "id": "MoykIOG-HFbl"
      }
    },
    {
      "cell_type": "markdown",
      "source": [
        "Optymalizator aktulaizuje parametry sieci neuronej za pomocą funkcji `optimizer.step()` ktora wykorzysuje policzone gradienty wag do zaktualizaowania ich - czyli najpierm musimy policzyć funkcję błedu i wykonać na niej backpropagacje a potem możemy użyć optymalizatora\n"
      ],
      "metadata": {
        "id": "ps0cTHKZEWQI"
      }
    },
    {
      "cell_type": "markdown",
      "source": [
        "Przykład"
      ],
      "metadata": {
        "id": "XRPpSB-WEq-t"
      }
    },
    {
      "cell_type": "code",
      "source": [
        "model = Model(64,10)\n",
        "\n",
        "adam = optim.Adam(model.parameters())"
      ],
      "metadata": {
        "id": "DOp1vQU1EpOd"
      },
      "execution_count": null,
      "outputs": []
    },
    {
      "cell_type": "markdown",
      "source": [
        "Wagi warstwy 1 na początku"
      ],
      "metadata": {
        "id": "LNxZB0tQGBmJ"
      }
    },
    {
      "cell_type": "code",
      "source": [
        "model.fc1.weight"
      ],
      "metadata": {
        "colab": {
          "base_uri": "https://localhost:8080/"
        },
        "id": "OCsN7g32Fw4d",
        "outputId": "b40b2df0-da54-46f7-e7ee-32f65f4bfb39"
      },
      "execution_count": null,
      "outputs": [
        {
          "output_type": "execute_result",
          "data": {
            "text/plain": [
              "Parameter containing:\n",
              "tensor([[-0.0616, -0.0922, -0.1162,  ..., -0.1025, -0.0513, -0.0688],\n",
              "        [-0.1053,  0.1241, -0.0617,  ..., -0.0774, -0.0663, -0.1173],\n",
              "        [ 0.0834, -0.1067,  0.0807,  ...,  0.0043, -0.0565,  0.0366],\n",
              "        ...,\n",
              "        [ 0.1230,  0.0417, -0.0150,  ..., -0.0464,  0.1072, -0.0865],\n",
              "        [ 0.1151,  0.0999, -0.0012,  ..., -0.1156,  0.0622, -0.0384],\n",
              "        [-0.0100,  0.1086, -0.0601,  ...,  0.1103, -0.0711, -0.0044]],\n",
              "       requires_grad=True)"
            ]
          },
          "metadata": {},
          "execution_count": 52
        }
      ]
    },
    {
      "cell_type": "markdown",
      "source": [
        "Predykcja (100 losowych danych)"
      ],
      "metadata": {
        "id": "9fTF6gr8GEXe"
      }
    },
    {
      "cell_type": "code",
      "source": [
        "y = model(torch.rand(100,64))"
      ],
      "metadata": {
        "id": "r68x9iEbFMRL"
      },
      "execution_count": null,
      "outputs": []
    },
    {
      "cell_type": "markdown",
      "source": [
        "Policzenie funkcji błędu"
      ],
      "metadata": {
        "id": "o7OdSj0nGGIT"
      }
    },
    {
      "cell_type": "code",
      "source": [
        "loss = ce_loss(y, torch.ones(100,10))"
      ],
      "metadata": {
        "id": "0472M19qFR9q"
      },
      "execution_count": null,
      "outputs": []
    },
    {
      "cell_type": "markdown",
      "source": [
        "Propagacja błedu po warstawch sieci (liczenie gradientów)"
      ],
      "metadata": {
        "id": "rkZU3cIGGIPk"
      }
    },
    {
      "cell_type": "code",
      "source": [
        "loss.backward()"
      ],
      "metadata": {
        "id": "4K1fg4b-Fa-_"
      },
      "execution_count": null,
      "outputs": []
    },
    {
      "cell_type": "markdown",
      "source": [
        "Gradient wag"
      ],
      "metadata": {
        "id": "5PpreD04GM02"
      }
    },
    {
      "cell_type": "code",
      "source": [
        "model.fc1.weight.grad"
      ],
      "metadata": {
        "colab": {
          "base_uri": "https://localhost:8080/"
        },
        "id": "JEIYZ7RXFmqN",
        "outputId": "c8468320-2378-4fbb-b3fb-c270e0538fb0"
      },
      "execution_count": null,
      "outputs": [
        {
          "output_type": "execute_result",
          "data": {
            "text/plain": [
              "tensor([[ 0.0000,  0.0000,  0.0000,  ...,  0.0000,  0.0000,  0.0000],\n",
              "        [ 0.0002,  0.0003,  0.0003,  ...,  0.0002,  0.0002,  0.0001],\n",
              "        [ 0.0098,  0.0101,  0.0105,  ...,  0.0097,  0.0094,  0.0110],\n",
              "        ...,\n",
              "        [-0.0101, -0.0107, -0.0087,  ..., -0.0087, -0.0092, -0.0094],\n",
              "        [ 0.0091,  0.0107,  0.0082,  ...,  0.0073,  0.0090,  0.0086],\n",
              "        [ 0.0107,  0.0114,  0.0105,  ...,  0.0100,  0.0098,  0.0101]])"
            ]
          },
          "metadata": {},
          "execution_count": 56
        }
      ]
    },
    {
      "cell_type": "markdown",
      "source": [
        "Użycie optymalizatora do zaktualizowania wag na podstawie gradientu"
      ],
      "metadata": {
        "id": "NXlptz-pGYEX"
      }
    },
    {
      "cell_type": "code",
      "source": [
        "adam.step()"
      ],
      "metadata": {
        "id": "sPfcrdZvGdI5"
      },
      "execution_count": null,
      "outputs": []
    },
    {
      "cell_type": "markdown",
      "source": [
        "Nowe wartości wag"
      ],
      "metadata": {
        "id": "DyuUOE8BGgSl"
      }
    },
    {
      "cell_type": "code",
      "source": [
        "model.fc1.weight"
      ],
      "metadata": {
        "colab": {
          "base_uri": "https://localhost:8080/"
        },
        "id": "UtJwz0YfGjbh",
        "outputId": "6471a90f-5951-49da-fac1-e6ba9ce16e7d"
      },
      "execution_count": null,
      "outputs": [
        {
          "output_type": "execute_result",
          "data": {
            "text/plain": [
              "Parameter containing:\n",
              "tensor([[-0.0616, -0.0922, -0.1162,  ..., -0.1025, -0.0513, -0.0688],\n",
              "        [-0.1063,  0.1231, -0.0627,  ..., -0.0784, -0.0673, -0.1183],\n",
              "        [ 0.0824, -0.1077,  0.0797,  ...,  0.0033, -0.0575,  0.0356],\n",
              "        ...,\n",
              "        [ 0.1240,  0.0427, -0.0140,  ..., -0.0454,  0.1082, -0.0855],\n",
              "        [ 0.1141,  0.0989, -0.0022,  ..., -0.1166,  0.0612, -0.0394],\n",
              "        [-0.0110,  0.1076, -0.0611,  ...,  0.1093, -0.0721, -0.0054]],\n",
              "       requires_grad=True)"
            ]
          },
          "metadata": {},
          "execution_count": 58
        }
      ]
    },
    {
      "cell_type": "markdown",
      "source": [
        "### Czyszczenie gradientów"
      ],
      "metadata": {
        "id": "hcvFQMyBHPGZ"
      }
    },
    {
      "cell_type": "markdown",
      "source": [
        "Po każdym aktualizacji wag przez optymalizaor chcemy wyczyścić gradienty (aby policzyć nowe od początko dla innego zestawu danych). Dokonuje się tego za pomocą funkjci `optimizer.zero_grad()`"
      ],
      "metadata": {
        "id": "DYB7DGPjHRqc"
      }
    },
    {
      "cell_type": "markdown",
      "source": [
        "Przykład"
      ],
      "metadata": {
        "id": "N5OiclljHhs_"
      }
    },
    {
      "cell_type": "code",
      "source": [
        "model.fc1.weight.grad"
      ],
      "metadata": {
        "colab": {
          "base_uri": "https://localhost:8080/"
        },
        "id": "529KrC_mHkdh",
        "outputId": "8bbee90c-7d48-47b0-ca43-2b382abe7627"
      },
      "execution_count": null,
      "outputs": [
        {
          "output_type": "execute_result",
          "data": {
            "text/plain": [
              "tensor([[ 0.0000,  0.0000,  0.0000,  ...,  0.0000,  0.0000,  0.0000],\n",
              "        [ 0.0002,  0.0003,  0.0003,  ...,  0.0002,  0.0002,  0.0001],\n",
              "        [ 0.0098,  0.0101,  0.0105,  ...,  0.0097,  0.0094,  0.0110],\n",
              "        ...,\n",
              "        [-0.0101, -0.0107, -0.0087,  ..., -0.0087, -0.0092, -0.0094],\n",
              "        [ 0.0091,  0.0107,  0.0082,  ...,  0.0073,  0.0090,  0.0086],\n",
              "        [ 0.0107,  0.0114,  0.0105,  ...,  0.0100,  0.0098,  0.0101]])"
            ]
          },
          "metadata": {},
          "execution_count": 59
        }
      ]
    },
    {
      "cell_type": "code",
      "source": [
        "adam.zero_grad()"
      ],
      "metadata": {
        "id": "ikTRy6PVHleZ"
      },
      "execution_count": null,
      "outputs": []
    },
    {
      "cell_type": "code",
      "source": [
        "model.fc1.weight.grad"
      ],
      "metadata": {
        "id": "hRhLTIumHnWL"
      },
      "execution_count": null,
      "outputs": []
    },
    {
      "cell_type": "markdown",
      "source": [
        "# Zadania"
      ],
      "metadata": {
        "id": "0EXXN1-DuaUR"
      }
    },
    {
      "cell_type": "markdown",
      "source": [
        "## Dataset"
      ],
      "metadata": {
        "id": "OedGMF16zBaT"
      }
    },
    {
      "cell_type": "markdown",
      "source": [
        "Wczytamy podobne dane - ręcznie zapisane cyfry ale w rozmiarze 64x64"
      ],
      "metadata": {
        "id": "avbylL2jzFu4"
      }
    },
    {
      "cell_type": "code",
      "source": [
        "from sklearn.datasets import fetch_openml"
      ],
      "metadata": {
        "id": "yVJDC9_kvXf7"
      },
      "execution_count": null,
      "outputs": []
    },
    {
      "cell_type": "code",
      "source": [
        "mnist = fetch_openml(\"mnist_784\")"
      ],
      "metadata": {
        "id": "GUe9Y4PQvYPD",
        "colab": {
          "base_uri": "https://localhost:8080/"
        },
        "outputId": "4cb2d9d9-6b67-4e32-bcc0-1e05d0923e61"
      },
      "execution_count": null,
      "outputs": [
        {
          "output_type": "stream",
          "name": "stderr",
          "text": [
            "/usr/local/lib/python3.10/dist-packages/sklearn/datasets/_openml.py:968: FutureWarning: The default value of `parser` will change from `'liac-arff'` to `'auto'` in 1.4. You can set `parser='auto'` to silence this warning. Therefore, an `ImportError` will be raised from 1.4 if the dataset is dense and pandas is not installed. Note that the pandas parser may return different data types. See the Notes Section in fetch_openml's API doc for details.\n",
            "  warn(\n"
          ]
        }
      ]
    },
    {
      "cell_type": "code",
      "source": [
        "import numpy as np"
      ],
      "metadata": {
        "id": "9KJxNovjykuF"
      },
      "execution_count": null,
      "outputs": []
    },
    {
      "cell_type": "code",
      "source": [
        "data = mnist.data.to_numpy()\n",
        "targets = np.vectorize(lambda x: int(x))(mnist.target.to_numpy())"
      ],
      "metadata": {
        "id": "DxaLTSKsvjFU"
      },
      "execution_count": null,
      "outputs": []
    },
    {
      "cell_type": "code",
      "source": [
        "data.shape"
      ],
      "metadata": {
        "colab": {
          "base_uri": "https://localhost:8080/"
        },
        "id": "se59DbaHwFpV",
        "outputId": "264e63b8-88e0-4a98-b8c5-0412593746e5"
      },
      "execution_count": null,
      "outputs": [
        {
          "output_type": "execute_result",
          "data": {
            "text/plain": [
              "(70000, 784)"
            ]
          },
          "metadata": {},
          "execution_count": 14
        }
      ]
    },
    {
      "cell_type": "code",
      "source": [
        "targets.shape"
      ],
      "metadata": {
        "colab": {
          "base_uri": "https://localhost:8080/"
        },
        "id": "56SZqyKHwJqn",
        "outputId": "776c98d2-24da-4010-dd3e-122ec0f8483c"
      },
      "execution_count": null,
      "outputs": [
        {
          "output_type": "execute_result",
          "data": {
            "text/plain": [
              "(70000,)"
            ]
          },
          "metadata": {},
          "execution_count": 15
        }
      ]
    },
    {
      "cell_type": "markdown",
      "source": [
        "### 1. Podziel dane na treningowe i testowe\n",
        "Podziel dane w stosunku 80/20 ze stratyfikacją"
      ],
      "metadata": {
        "id": "IUl3ON2bzPgq"
      }
    },
    {
      "cell_type": "code",
      "source": [
        "train_data, test_data, train_targets, test_targets = train_test_split(data, targets, test_size=0.2, stratify=targets, random_state=42)"
      ],
      "metadata": {
        "id": "WQAcS8-0wPrA"
      },
      "execution_count": null,
      "outputs": []
    },
    {
      "cell_type": "markdown",
      "source": [],
      "metadata": {
        "id": "NIfDm0yVwIzr"
      }
    },
    {
      "cell_type": "code",
      "source": [
        "train_data.shape"
      ],
      "metadata": {
        "colab": {
          "base_uri": "https://localhost:8080/"
        },
        "id": "Dr1XjjtgwXRM",
        "outputId": "f8740762-5c5a-4a92-8faf-7067666de897"
      },
      "execution_count": null,
      "outputs": [
        {
          "output_type": "execute_result",
          "data": {
            "text/plain": [
              "(56000, 784)"
            ]
          },
          "metadata": {},
          "execution_count": 17
        }
      ]
    },
    {
      "cell_type": "code",
      "source": [
        "test_data.shape"
      ],
      "metadata": {
        "colab": {
          "base_uri": "https://localhost:8080/"
        },
        "id": "iO5JKmtjwZjk",
        "outputId": "e8ecf2b6-b4db-4057-e70f-bc6a3f64e56d"
      },
      "execution_count": null,
      "outputs": [
        {
          "output_type": "execute_result",
          "data": {
            "text/plain": [
              "(14000, 784)"
            ]
          },
          "metadata": {},
          "execution_count": 18
        }
      ]
    },
    {
      "cell_type": "markdown",
      "source": [
        "### 2. Zaimplementuj dataset\n",
        "\n",
        "Uwaga : piksele w nowym datasie są zapisane jako cyfry z przedziału 0-255 zamiast 0-16 jak poprzednio. Uzględnij to w normalizacji"
      ],
      "metadata": {
        "id": "HNxBojW6zUyb"
      }
    },
    {
      "cell_type": "code",
      "source": [
        "from torch.utils.data import Dataset\n"
      ],
      "metadata": {
        "id": "WldoL5Kmwx9C"
      },
      "execution_count": null,
      "outputs": []
    },
    {
      "cell_type": "code",
      "source": [
        "class DigitsDataset(Dataset):\n",
        "    def __init__(self, data, targets):\n",
        "        self.data = data\n",
        "        self.targets = targets\n",
        "\n",
        "    def __len__(self):\n",
        "        return len(self.data)\n",
        "\n",
        "    def __getitem__(self, idx):\n",
        "        x = torch.tensor(self.data[idx], dtype=torch.float) / 255.0\n",
        "        y = torch.tensor(self.targets[idx], dtype=torch.long)\n",
        "        return x, y"
      ],
      "metadata": {
        "id": "-ABrfB2ZwdEC"
      },
      "execution_count": null,
      "outputs": []
    },
    {
      "cell_type": "code",
      "source": [
        "train_dataset = DigitsDataset(train_data, train_targets)"
      ],
      "metadata": {
        "id": "XT_oOekBw4pO"
      },
      "execution_count": null,
      "outputs": []
    },
    {
      "cell_type": "code",
      "source": [
        "test_dataset = DigitsDataset(test_data, test_targets)"
      ],
      "metadata": {
        "id": "_Y-abLB_w4pO"
      },
      "execution_count": null,
      "outputs": []
    },
    {
      "cell_type": "markdown",
      "source": [
        "Weryfikacja danych"
      ],
      "metadata": {
        "id": "naTfig3g4CEM"
      }
    },
    {
      "cell_type": "markdown",
      "source": [
        "X"
      ],
      "metadata": {
        "id": "vBZl6miX4EpE"
      }
    },
    {
      "cell_type": "code",
      "source": [
        "train_dataset[0][0]"
      ],
      "metadata": {
        "colab": {
          "base_uri": "https://localhost:8080/"
        },
        "id": "tPhOHpDR34ye",
        "outputId": "7471ba00-3f1f-483b-997f-93ddddaca324"
      },
      "execution_count": null,
      "outputs": [
        {
          "output_type": "execute_result",
          "data": {
            "text/plain": [
              "tensor([0.0000, 0.0000, 0.0000, 0.0000, 0.0000, 0.0000, 0.0000, 0.0000, 0.0000,\n",
              "        0.0000, 0.0000, 0.0000, 0.0000, 0.0000, 0.0000, 0.0000, 0.0000, 0.0000,\n",
              "        0.0000, 0.0000, 0.0000, 0.0000, 0.0000, 0.0000, 0.0000, 0.0000, 0.0000,\n",
              "        0.0000, 0.0000, 0.0000, 0.0000, 0.0000, 0.0000, 0.0000, 0.0000, 0.0000,\n",
              "        0.0000, 0.0000, 0.0000, 0.0000, 0.0000, 0.0000, 0.0000, 0.0000, 0.0000,\n",
              "        0.0000, 0.0000, 0.0000, 0.0000, 0.0000, 0.0000, 0.0000, 0.0000, 0.0000,\n",
              "        0.0000, 0.0000, 0.0000, 0.0000, 0.0000, 0.0000, 0.0000, 0.0000, 0.0000,\n",
              "        0.0000, 0.0000, 0.0000, 0.0000, 0.0000, 0.0000, 0.0000, 0.0000, 0.0000,\n",
              "        0.0000, 0.0000, 0.0000, 0.0000, 0.0000, 0.0000, 0.0000, 0.0000, 0.0000,\n",
              "        0.0000, 0.0000, 0.0000, 0.0000, 0.0000, 0.0000, 0.0000, 0.0000, 0.0000,\n",
              "        0.0000, 0.0000, 0.0000, 0.0000, 0.0000, 0.0000, 0.0000, 0.0000, 0.0000,\n",
              "        0.0000, 0.0000, 0.0000, 0.0000, 0.0000, 0.0000, 0.0000, 0.0000, 0.0000,\n",
              "        0.0000, 0.0000, 0.0000, 0.0000, 0.0000, 0.0000, 0.0000, 0.0000, 0.0000,\n",
              "        0.0000, 0.0000, 0.0000, 0.0000, 0.0000, 0.0000, 0.0000, 0.0000, 0.0000,\n",
              "        0.0000, 0.0000, 0.0000, 0.0000, 0.0118, 0.3765, 0.5333, 0.9020, 1.0000,\n",
              "        0.3490, 0.0000, 0.0000, 0.0000, 0.0000, 0.0000, 0.0000, 0.0000, 0.0000,\n",
              "        0.0000, 0.0000, 0.0000, 0.0000, 0.0000, 0.0000, 0.0000, 0.0000, 0.0000,\n",
              "        0.0000, 0.0000, 0.0000, 0.0000, 0.1608, 0.6471, 0.9922, 0.9922, 0.9922,\n",
              "        0.9922, 0.9922, 0.0000, 0.0000, 0.0000, 0.0000, 0.0000, 0.0000, 0.0000,\n",
              "        0.0000, 0.0000, 0.0000, 0.0000, 0.0000, 0.0000, 0.0000, 0.0000, 0.0000,\n",
              "        0.0000, 0.0000, 0.0000, 0.0784, 0.4196, 0.9882, 0.9922, 0.9922, 0.9922,\n",
              "        0.9922, 0.9922, 0.6784, 0.0000, 0.0000, 0.0000, 0.0000, 0.0000, 0.0000,\n",
              "        0.0000, 0.0000, 0.0000, 0.0000, 0.0000, 0.0000, 0.0000, 0.0000, 0.0000,\n",
              "        0.0000, 0.0000, 0.0000, 0.2157, 0.7608, 0.9922, 0.9922, 0.9922, 0.8118,\n",
              "        0.9176, 0.9922, 0.9922, 0.8745, 0.0000, 0.0000, 0.0000, 0.0000, 0.0000,\n",
              "        0.0000, 0.0000, 0.0000, 0.0000, 0.0000, 0.0000, 0.0000, 0.0000, 0.0000,\n",
              "        0.0000, 0.0000, 0.0588, 0.4588, 0.9529, 0.9922, 0.9922, 0.9765, 0.3765,\n",
              "        0.0627, 0.2510, 0.9216, 0.9922, 0.9922, 0.0000, 0.0000, 0.0000, 0.0000,\n",
              "        0.0000, 0.0000, 0.0000, 0.0000, 0.0000, 0.0000, 0.0000, 0.0000, 0.0000,\n",
              "        0.0000, 0.0000, 0.0392, 0.5098, 0.9922, 0.9922, 0.9922, 0.9922, 0.1255,\n",
              "        0.0000, 0.0000, 0.0000, 0.7882, 0.9922, 0.9922, 0.0000, 0.0000, 0.0000,\n",
              "        0.0000, 0.0000, 0.0000, 0.0000, 0.0000, 0.0000, 0.0000, 0.0000, 0.0000,\n",
              "        0.0000, 0.0000, 0.0235, 0.7529, 0.9922, 0.9922, 0.9882, 0.6235, 0.0431,\n",
              "        0.0039, 0.0000, 0.0000, 0.1294, 0.8902, 0.9922, 0.7647, 0.0000, 0.0000,\n",
              "        0.0000, 0.0000, 0.0000, 0.0000, 0.0000, 0.0000, 0.0000, 0.0000, 0.0000,\n",
              "        0.0000, 0.0000, 0.2353, 0.7725, 0.9922, 0.9922, 0.8196, 0.3059, 0.0000,\n",
              "        0.0000, 0.0000, 0.0000, 0.0000, 0.5137, 0.9922, 0.9922, 0.4902, 0.0000,\n",
              "        0.0000, 0.0000, 0.0000, 0.0000, 0.0000, 0.0000, 0.0000, 0.0000, 0.0000,\n",
              "        0.0000, 0.0000, 0.1333, 0.7294, 0.9922, 0.9922, 0.8157, 0.1137, 0.0000,\n",
              "        0.0000, 0.0000, 0.0000, 0.0000, 0.0314, 0.7647, 0.9922, 0.9922, 0.0667,\n",
              "        0.0000, 0.0000, 0.0000, 0.0000, 0.0000, 0.0000, 0.0000, 0.0000, 0.0000,\n",
              "        0.0000, 0.0000, 0.5216, 0.9373, 0.9922, 0.9922, 0.6039, 0.1137, 0.0000,\n",
              "        0.0000, 0.0000, 0.0000, 0.0000, 0.0549, 0.6706, 0.9922, 0.9922, 0.8078,\n",
              "        0.0353, 0.0000, 0.0000, 0.0000, 0.0000, 0.0000, 0.0000, 0.0000, 0.0000,\n",
              "        0.0000, 0.0000, 0.1647, 0.9373, 0.9922, 0.9922, 0.9765, 0.1020, 0.0000,\n",
              "        0.0000, 0.0000, 0.0000, 0.0000, 0.0000, 0.0000, 0.5098, 0.9922, 0.9922,\n",
              "        0.6902, 0.0157, 0.0000, 0.0000, 0.0000, 0.0000, 0.0000, 0.0000, 0.0000,\n",
              "        0.0000, 0.0000, 0.0000, 0.6000, 0.9922, 0.9922, 0.9922, 0.5804, 0.0000,\n",
              "        0.0000, 0.0000, 0.0000, 0.0000, 0.0000, 0.0000, 0.0000, 0.1882, 0.9922,\n",
              "        0.9922, 0.7451, 0.0275, 0.0000, 0.0000, 0.0000, 0.0000, 0.0000, 0.0000,\n",
              "        0.0000, 0.0000, 0.0000, 0.1294, 0.9647, 0.9922, 0.9922, 0.4078, 0.0471,\n",
              "        0.0000, 0.0000, 0.0000, 0.0000, 0.0000, 0.0000, 0.0000, 0.3137, 0.9216,\n",
              "        0.9922, 0.9922, 0.4314, 0.0078, 0.0000, 0.0000, 0.0000, 0.0000, 0.0000,\n",
              "        0.0000, 0.0000, 0.0000, 0.0392, 0.7961, 0.9922, 0.9922, 0.6275, 0.0039,\n",
              "        0.0000, 0.0000, 0.0000, 0.0000, 0.0000, 0.0000, 0.0000, 0.5216, 0.9843,\n",
              "        0.9922, 0.9922, 0.4392, 0.0039, 0.0000, 0.0000, 0.0000, 0.0000, 0.0000,\n",
              "        0.0000, 0.0000, 0.0000, 0.0000, 0.5569, 0.9922, 0.9922, 0.8314, 0.0784,\n",
              "        0.0000, 0.0000, 0.0000, 0.0000, 0.0000, 0.0000, 0.0471, 0.5373, 0.9843,\n",
              "        0.9922, 0.9725, 0.5412, 0.0863, 0.0000, 0.0000, 0.0000, 0.0000, 0.0000,\n",
              "        0.0000, 0.0000, 0.0000, 0.0000, 0.0000, 0.8353, 0.9922, 0.9922, 0.5020,\n",
              "        0.0000, 0.0000, 0.0000, 0.0000, 0.0000, 0.0471, 0.3294, 0.7765, 0.9922,\n",
              "        0.9922, 0.9725, 0.4431, 0.0000, 0.0000, 0.0000, 0.0000, 0.0000, 0.0000,\n",
              "        0.0000, 0.0000, 0.0000, 0.0000, 0.0000, 0.0000, 0.7608, 0.9922, 0.9922,\n",
              "        0.7843, 0.2588, 0.2588, 0.2588, 0.2588, 0.5490, 0.7843, 0.9922, 0.9922,\n",
              "        0.9922, 0.9608, 0.2431, 0.0000, 0.0000, 0.0000, 0.0000, 0.0000, 0.0000,\n",
              "        0.0000, 0.0000, 0.0000, 0.0000, 0.0000, 0.0000, 0.0000, 0.4431, 0.9922,\n",
              "        0.9922, 0.9922, 0.9922, 0.9922, 0.9922, 0.9922, 0.9922, 0.9922, 0.9922,\n",
              "        0.7176, 0.4667, 0.1961, 0.0000, 0.0000, 0.0000, 0.0000, 0.0000, 0.0000,\n",
              "        0.0000, 0.0000, 0.0000, 0.0000, 0.0000, 0.0000, 0.0000, 0.0000, 0.0745,\n",
              "        0.2588, 0.9922, 0.9922, 0.9922, 0.9922, 0.9922, 0.9922, 0.9922, 0.9020,\n",
              "        0.4588, 0.0235, 0.0000, 0.0000, 0.0000, 0.0000, 0.0000, 0.0000, 0.0000,\n",
              "        0.0000, 0.0000, 0.0000, 0.0000, 0.0000, 0.0000, 0.0000, 0.0000, 0.0000,\n",
              "        0.0000, 0.0118, 0.3804, 0.6588, 0.9922, 0.9922, 0.9922, 0.7333, 0.5294,\n",
              "        0.1922, 0.0000, 0.0000, 0.0000, 0.0000, 0.0000, 0.0000, 0.0000, 0.0000,\n",
              "        0.0000, 0.0000, 0.0000, 0.0000, 0.0000, 0.0000, 0.0000, 0.0000, 0.0000,\n",
              "        0.0000, 0.0000, 0.0000, 0.0000, 0.0000, 0.0000, 0.0000, 0.0000, 0.0000,\n",
              "        0.0000, 0.0000, 0.0000, 0.0000, 0.0000, 0.0000, 0.0000, 0.0000, 0.0000,\n",
              "        0.0000, 0.0000, 0.0000, 0.0000, 0.0000, 0.0000, 0.0000, 0.0000, 0.0000,\n",
              "        0.0000, 0.0000, 0.0000, 0.0000, 0.0000, 0.0000, 0.0000, 0.0000, 0.0000,\n",
              "        0.0000, 0.0000, 0.0000, 0.0000, 0.0000, 0.0000, 0.0000, 0.0000, 0.0000,\n",
              "        0.0000, 0.0000, 0.0000, 0.0000, 0.0000, 0.0000, 0.0000, 0.0000, 0.0000,\n",
              "        0.0000, 0.0000, 0.0000, 0.0000, 0.0000, 0.0000, 0.0000, 0.0000, 0.0000,\n",
              "        0.0000, 0.0000, 0.0000, 0.0000, 0.0000, 0.0000, 0.0000, 0.0000, 0.0000,\n",
              "        0.0000, 0.0000, 0.0000, 0.0000, 0.0000, 0.0000, 0.0000, 0.0000, 0.0000,\n",
              "        0.0000, 0.0000, 0.0000, 0.0000, 0.0000, 0.0000, 0.0000, 0.0000, 0.0000,\n",
              "        0.0000, 0.0000, 0.0000, 0.0000, 0.0000, 0.0000, 0.0000, 0.0000, 0.0000,\n",
              "        0.0000, 0.0000, 0.0000, 0.0000, 0.0000, 0.0000, 0.0000, 0.0000, 0.0000,\n",
              "        0.0000])"
            ]
          },
          "metadata": {},
          "execution_count": 25
        }
      ]
    },
    {
      "cell_type": "markdown",
      "source": [
        "y"
      ],
      "metadata": {
        "id": "HrXDOejr4KeQ"
      }
    },
    {
      "cell_type": "code",
      "source": [
        "train_dataset[0][1]"
      ],
      "metadata": {
        "colab": {
          "base_uri": "https://localhost:8080/"
        },
        "id": "Nmf9CAXC4LR0",
        "outputId": "9af9216f-c0d2-49a3-eb8d-c6863d8ebd02"
      },
      "execution_count": null,
      "outputs": [
        {
          "output_type": "execute_result",
          "data": {
            "text/plain": [
              "tensor(0)"
            ]
          },
          "metadata": {},
          "execution_count": 26
        }
      ]
    },
    {
      "cell_type": "markdown",
      "source": [
        "### 3. Zaimplementuj dataloader"
      ],
      "metadata": {
        "id": "9H0d04ZZzuBB"
      }
    },
    {
      "cell_type": "code",
      "source": [
        "from torch.utils.data import DataLoader"
      ],
      "metadata": {
        "id": "yqSJd5B-w-NN"
      },
      "execution_count": null,
      "outputs": []
    },
    {
      "cell_type": "code",
      "source": [
        "train_dataset = DigitsDataset(train_data, train_targets)\n",
        "train_dataloader = DataLoader(train_dataset, batch_size=32, shuffle=True)"
      ],
      "metadata": {
        "id": "_zkWZr7ow-NN"
      },
      "execution_count": null,
      "outputs": []
    },
    {
      "cell_type": "code",
      "source": [
        "test_dataset = DigitsDataset(test_data, test_targets)\n",
        "test_dataloader = DataLoader(test_dataset, batch_size=32, shuffle=False)"
      ],
      "metadata": {
        "id": "M4CspwNBw-NN"
      },
      "execution_count": null,
      "outputs": []
    },
    {
      "cell_type": "code",
      "source": [
        "from torch import nn\n",
        "import torch.nn.functional as F\n"
      ],
      "metadata": {
        "id": "I5kfe_eTxYNv"
      },
      "execution_count": null,
      "outputs": []
    },
    {
      "cell_type": "markdown",
      "source": [
        "## Sieć Neuronowa"
      ],
      "metadata": {
        "id": "ZdAfjAQ9zzir"
      }
    },
    {
      "cell_type": "markdown",
      "source": [
        "### 1. Zaimplementuj sieć neuronową:\n",
        "\n",
        "Sieć powinna mieć 2 warswy ukryte - pierwsza warstwa 200 neuronów, druga 100"
      ],
      "metadata": {
        "id": "-FhdsPFu1HU_"
      }
    },
    {
      "cell_type": "code",
      "source": [
        "class Model(nn.Module):\n",
        "    def __init__(self, input_size, num_classes):\n",
        "        super(Model, self).__init__()\n",
        "        self.fc1 = nn.Linear(input_size, 200)\n",
        "        self.fc2 = nn.Linear(200, 100)\n",
        "        self.fc3 = nn.Linear(100, num_classes)\n",
        "\n",
        "    def forward(self, x):\n",
        "        out = F.relu(self.fc1(x))\n",
        "        out = F.relu(self.fc2(out))\n",
        "        out = self.fc3(out)\n",
        "        if not self.training:\n",
        "            out = F.softmax(out, dim=1)  # jeśli sieć nie jest w trybie trenowania, to wynik drugiej warstwy przechodzi przez funkcję aktywacji softmax\n",
        "        return out"
      ],
      "metadata": {
        "id": "A3iuIe3DxXt_"
      },
      "execution_count": null,
      "outputs": []
    },
    {
      "cell_type": "markdown",
      "source": [
        "## Trening"
      ],
      "metadata": {
        "id": "Mh_T5c6d2UsW"
      }
    },
    {
      "cell_type": "code",
      "source": [
        "from torch import optim\n",
        "import torch"
      ],
      "metadata": {
        "id": "vPgZzuAYxfm7"
      },
      "execution_count": null,
      "outputs": []
    },
    {
      "cell_type": "markdown",
      "source": [
        "### 1. Zainicjalizuj model, funkcje błędu, i optymalizator\n",
        "\n",
        "Funkcja błędu - entropia krzyżowa\n",
        "\n",
        "Optymalizator - Adam"
      ],
      "metadata": {
        "id": "7nf0OBDj2YeQ"
      }
    },
    {
      "cell_type": "code",
      "source": [
        "input_size = 784\n",
        "num_classes = 10\n",
        "\n",
        "model = Model(input_size, num_classes)\n",
        "\n",
        "loss_function = nn.CrossEntropyLoss()\n",
        "optimizer = optim.Adam(model.parameters())"
      ],
      "metadata": {
        "id": "2RhvibfT2XL-"
      },
      "execution_count": null,
      "outputs": []
    },
    {
      "cell_type": "markdown",
      "source": [],
      "metadata": {
        "id": "s0IBzKwi2T51"
      }
    },
    {
      "cell_type": "code",
      "source": [
        "# from matplotlib import test\n",
        "\n",
        "\n",
        "train_losses = []\n",
        "test_losses = []\n",
        "\n",
        "for epoch in range(10):\n",
        "\n",
        "  epoch_train_loss = 0.\n",
        "  epoch_test_loss = 0.\n",
        "\n",
        "\n",
        "  for data in train_dataloader:\n",
        "    inputs, labels = data\n",
        "\n",
        "    #wyzeruj gradienty\n",
        "    optimizer.zero_grad()\n",
        "\n",
        "    #policz predykcje modelu (może być potrzebna konwersja danych na float - inputs.float())\n",
        "    inputs = inputs.float()\n",
        "    outputs = model(inputs)\n",
        "\n",
        "    #policz funkcje błędu\n",
        "    loss = loss_function(outputs, labels)\n",
        "\n",
        "    #policz gradienty\n",
        "    loss.backward()\n",
        "\n",
        "    #zaktualizuj wagi modelu korzystając z optymalizatora\n",
        "    optimizer.step()\n",
        "\n",
        "    epoch_train_loss += loss.item()\n",
        "\n",
        "  with torch.no_grad(): # dla danych testowych nie liczymy gradientów\n",
        "    for test_data in test_dataloader:\n",
        "      inputs, labels = test_data\n",
        "\n",
        "      #policz predykcje modelu (może być potrzebna konwersja danych na float - inputs.float())\n",
        "      inputs = inputs.float()\n",
        "      outputs = model(inputs)\n",
        "\n",
        "      #policz funkcje błędu\n",
        "      loss = loss_function(outputs, labels)\n",
        "\n",
        "      epoch_test_loss += loss.item()\n",
        "\n",
        "\n",
        "  print(f\"Epoch {epoch} train loss {epoch_train_loss/len(train_dataloader)}, test_loss {epoch_test_loss/len(test_dataloader)}\")\n",
        "  train_losses.append(epoch_train_loss/len(train_dataloader))\n",
        "  test_losses.append(epoch_test_loss/len(test_dataloader))"
      ],
      "metadata": {
        "colab": {
          "base_uri": "https://localhost:8080/"
        },
        "id": "oq7vJdz_xBey",
        "outputId": "ef2e174d-465c-427c-9610-35c3cb3a2933"
      },
      "execution_count": null,
      "outputs": [
        {
          "output_type": "stream",
          "name": "stdout",
          "text": [
            "Epoch 0 train loss 0.2601338381144617, test_loss 0.12602457675559778\n",
            "Epoch 1 train loss 0.09948333137482404, test_loss 0.09255381566302247\n",
            "Epoch 2 train loss 0.0673732830456325, test_loss 0.08415596651274299\n",
            "Epoch 3 train loss 0.04925346132793597, test_loss 0.07771022646163259\n",
            "Epoch 4 train loss 0.037631547379240925, test_loss 0.09172952587604119\n",
            "Epoch 5 train loss 0.03048379639602042, test_loss 0.08447605388640167\n",
            "Epoch 6 train loss 0.02586551738741816, test_loss 0.08141037152252042\n",
            "Epoch 7 train loss 0.021044357922360566, test_loss 0.07887975427015237\n",
            "Epoch 8 train loss 0.019513308526637567, test_loss 0.09858358068208353\n",
            "Epoch 9 train loss 0.016517274462492553, test_loss 0.0865987335503105\n"
          ]
        }
      ]
    },
    {
      "cell_type": "code",
      "source": [
        "import matplotlib.pyplot as plt"
      ],
      "metadata": {
        "id": "jM1mTJkSz68G"
      },
      "execution_count": null,
      "outputs": []
    },
    {
      "cell_type": "code",
      "source": [
        "plt.plot(list(range(10)),train_losses)\n",
        "plt.plot(list(range(10)),test_losses)"
      ],
      "metadata": {
        "id": "sdvocPf8z68H"
      },
      "execution_count": null,
      "outputs": []
    },
    {
      "cell_type": "code",
      "source": [],
      "metadata": {
        "id": "1MKttfgct0VM"
      },
      "execution_count": null,
      "outputs": []
    }
  ]
}